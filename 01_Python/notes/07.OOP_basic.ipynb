{
 "cells": [
  {
   "cell_type": "code",
   "execution_count": 1,
   "metadata": {},
   "outputs": [],
   "source": [
    "from IPython.display import IFrame"
   ]
  },
  {
   "cell_type": "markdown",
   "metadata": {},
   "source": [
    "# OOP with python\n",
    "\n",
    "## 시작하기전에\n",
    "\n",
    "<wikipedia - 객체지향 프로그래밍> \n",
    ">\n",
    "> 객체 지향 프로그래밍(영어: Object-Oriented Programming, OOP)은 컴퓨터 프로그래밍의 패러다임의 하나이다. 객체 지향 프로그래밍은 컴퓨터 프로그램을 명령어의 목록으로 보는 시각에서 벗어나 여러 개의 독립된 단위, 즉 \"객체\"들의 모임으로 파악하고자 하는 것이다. 각각의 객체는 메시지를 주고받고, 데이터를 처리할 수 있다.\n",
    ">\n",
    "> 명령형 프로그래밍인 절차지향 프로그래밍에서 발전된 형태를 나타내며, 기본 구성요소는 다음과 같다.\n",
    "\n",
    "* 클래스(Class) \n",
    "    - 같은 종류(또는 문제 해결을 위한)의 집단에 속하는 **속성(attribute)**과 **행위(behavior)**를 정의한 것으로 객체지향 프로그램의 기본적인 사용자 정의 데이터형(user define data type)이라고 할 수 있다\n",
    "    - 클래스는 프로그래머가 아니지만 해결해야 할 문제가 속하는 영역에 종사하는 사람이라면 사용할 수 있고, 다른 클래스 또는 외부 요소와 독립적으로 디자인하여야 한다.\n",
    "\n",
    "\n",
    "* 인스턴스(instance) \n",
    "    - 클래스의 인스턴스/객체(실제로 메모리상에 할당된 것)이다. \n",
    "    - 객체는 자신 고유의 속성(attribute)을 가지며 클래스에서 정의한 행위(behavior)를 수행할 수 있다. \n",
    "    - 객체의 행위는 클래스에 정의된 행위에 대한 정의(메서드)를 공유함으로써 메모리를 경제적으로 사용한다.\n",
    "\n",
    "\n",
    "* 속성(attribute) \n",
    "    - 클래스/인스턴스 가 가지고 있는 속성(값)\n",
    "\n",
    "\n",
    "* 메서드(Method) \n",
    "    - 클래스/인스턴스 가 할 수 있는 행위(함수)"
   ]
  },
  {
   "cell_type": "markdown",
   "metadata": {},
   "source": [
    "\n",
    "\n",
    "| class / type | instance                 | attributes       | methods                                |\n",
    "| ------------ | ------------------------ | ---------------- | -------------------------------------- |\n",
    "| `str`        | `''`, `'hello'`, `'123'` |       _          | `.capitalize()`, `.join()`, `.split()` |\n",
    "| `list`       | `[]`, `['a', 'b']`       |       _          | `.append()`, `reverse()`, `sort()`     |\n",
    "| `dict`       | `{}`, `{'key': 'value'}` |       _          | `.keys()`, `.values()`, `.items().`    |\n",
    "| `int`        | `0`, `1`, `2`            |       _          |                                        |"
   ]
  },
  {
   "cell_type": "code",
   "execution_count": null,
   "metadata": {},
   "outputs": [],
   "source": [
    "# 복소수를 하나 만들어보고, 타입을 출력해봅시다.\n",
    "im=1+12j\n",
    "print(type(im))"
   ]
  },
  {
   "cell_type": "markdown",
   "metadata": {},
   "source": [
    "> 위에서 말한 속성(값)과 행위(메서드)를 명확히 구분해 봅시다\n",
    "\n",
    "* `complex` class의 객체들의 속성들을 확인해 봅시다."
   ]
  },
  {
   "cell_type": "code",
   "execution_count": null,
   "metadata": {},
   "outputs": [],
   "source": [
    "# 허수부랑 실수부를 함께 출력해봅시다. complex 객체의 실수 속성(attribute)과 허수 속성(attribute)이라고도 표현 가능합니다.\n",
    "print(im.real)\n",
    "print(im.imag)"
   ]
  },
  {
   "cell_type": "markdown",
   "metadata": {},
   "source": [
    "* `list` class의 객체들이 할 수 있는 행위(메서드)들을 확인해 봅시다."
   ]
  },
  {
   "cell_type": "code",
   "execution_count": null,
   "metadata": {},
   "outputs": [],
   "source": [
    "# 리스트를 하나 만들고 정렬해봅시다. list 객체의 메서드 실행이라고도 표현 가능합니다."
   ]
  },
  {
   "cell_type": "code",
   "execution_count": null,
   "metadata": {},
   "outputs": [],
   "source": [
    "my_list = [3, 2, 1]\n",
    "print(type(my_list))\n",
    "my_list.sort()\n",
    "print(my_list)"
   ]
  },
  {
   "cell_type": "code",
   "execution_count": null,
   "metadata": {},
   "outputs": [],
   "source": [
    "# list class 의 객체들이 할 수 있는 것들을 알아봅시다. (list 객체가 가지고 있는 모든 속성과 메서드를 보여줍니다.)\n",
    "print(dir(list))"
   ]
  },
  {
   "cell_type": "markdown",
   "metadata": {},
   "source": [
    "## 실습 (without OOP)\n",
    "\n",
    "> 프로그래밍으로, 현재 나의 핸드폰을 코드로 옮겨봅시다.\n",
    "\n",
    "**정답은 없습니다. 자유롭게 구현해 봅시다.**\n",
    "\n",
    "* 핸드폰은 다음과 같은 속성(값)을 가지고 있습니다.\n",
    "    * 전원(`power`) - `bool`\n",
    "    * 내 전화번호(`number`) - `str`\n",
    "    * 전화번호부(`book`) - `dict`\n",
    "    * 모델명(`model`) - `str`\n",
    "\n",
    "* 핸드폰은 다음과 같은 다음과 같은 행동(함수)을 할 수 있습니다.\n",
    "    * 켜기(`on()`)\n",
    "    * 끄기(`off()`)\n",
    "    * 내 전화번호 설정하기(`set_my_number(number)`)\n",
    "    * 전화걸기(`call(number)`)\n",
    "    * 전화번호부에 번호 저장하기(`save(name, number)`)"
   ]
  },
  {
   "cell_type": "code",
   "execution_count": null,
   "metadata": {},
   "outputs": [],
   "source": [
    "# 아래에 자유롭게 코드를 작성해보세요.\n",
    "\n",
    "def on(*a):\n",
    "    print('on')\n",
    "    a[0][1]=1\n",
    "    print(phone)\n",
    "    \n",
    "def off(*a):\n",
    "    print('off')\n",
    "    a[0][1]=0\n",
    "    print(phone)\n",
    "    \n",
    "def set_my_number(b,*a):\n",
    "    print('set_my_number')\n",
    "    if a[0][1]:\n",
    "        if len(a[1])>1:\n",
    "            a[1][1]=b\n",
    "        else:\n",
    "            a[1].append(b)\n",
    "    else:\n",
    "        print('전원이 꺼져 있습니다.')\n",
    "    print(phone)\n",
    "    \n",
    "def call(b,*a):\n",
    "    print('call')\n",
    "    if a[0][1]:\n",
    "        print('{}으로 전화를 걸었습니다.'.format(b))\n",
    "    else:\n",
    "        print('전원이 꺼져 있습니다.')\n",
    "    print(phone)\n",
    "\n",
    "def save(b, c, *a):    \n",
    "    print('save')\n",
    "    if a[0][1]:\n",
    "        a[2][1][b]=c\n",
    "    else:\n",
    "        print('전원이 꺼져 있습니다.')\n",
    "    print(phone)\n",
    "\n",
    "\n",
    "def set_model_name(b,*a):\n",
    "    print('set_model_name')\n",
    "    if a[0][1]:\n",
    "        if len(a[3])>1:\n",
    "            a[3][1]=b\n",
    "        else:\n",
    "            a[3].append(b)\n",
    "    else:\n",
    "        print('전원이 꺼져 있습니다.')\n",
    "    print(phone)\n",
    "\n",
    "\n",
    "\n",
    "phone=[['전원 상태',0],['내 전화번호'],['전화번호부',{}],['모델명']]\n",
    "\n",
    "off(*phone)\n",
    "on(*phone)\n",
    "call('0100011001',*phone)\n",
    "set_model_name('s3',*phone)\n",
    "set_model_name('s7',*phone)\n",
    "set_model_name('s10',*phone)\n",
    "set_my_number('010102030304',*phone)\n",
    "set_my_number('010111',*phone)\n",
    "set_my_number('444001',*phone)\n",
    "save('홍길동','010112304',*phone)\n",
    "save('sdfa','01011737372304',*phone)\n",
    "save('홍erwrwt길동','d112314',*phone)\n",
    "save('wetyhdfa','0101154546322304',*phone)\n"
   ]
  },
  {
   "cell_type": "code",
   "execution_count": null,
   "metadata": {},
   "outputs": [],
   "source": [
    "power=False\n",
    "model='samsung galaxy'\n",
    "book={}\n",
    "def on():\n",
    "    if not power:\n",
    "        power = True\n",
    "        return power\n",
    "def off():\n",
    "    if power:\n",
    "        power=False\n",
    "        return power\n",
    "def set_my_number(number):\n",
    "    if power:\n",
    "        number=number\n",
    "\n",
    "def call(number):\n",
    "    if power:\n",
    "        if number in book:\n",
    "            print('{}에게 전화중입니다.'.format(book[number]))\n",
    "        else:\n",
    "            print('{}에게 전화중입니다.'.format(number))\n",
    "    \n",
    "def save(name, number):\n",
    "    if power:\n",
    "        book[name]=number\n",
    "        return book\n",
    "\n",
    "        \n",
    "    "
   ]
  },
  {
   "cell_type": "code",
   "execution_count": null,
   "metadata": {},
   "outputs": [],
   "source": [
    "# 핸드폰을 켜지 않고 이런저런 일을 해 봅시다. 긴급 상황입니다. 112에 전화를 하죠.\n",
    "call('112')"
   ]
  },
  {
   "cell_type": "code",
   "execution_count": null,
   "metadata": {},
   "outputs": [],
   "source": [
    "# 전화가 안걸려요. 생각해보니.. 핸드폰을 안켰어요. 핸드폰을 켜봅시다. \n",
    "on()"
   ]
  },
  {
   "cell_type": "code",
   "execution_count": null,
   "metadata": {},
   "outputs": [],
   "source": [
    "# 켜지지 않고 에러가 납니다.. 어째서 그런 걸까요?"
   ]
  },
  {
   "cell_type": "code",
   "execution_count": null,
   "metadata": {},
   "outputs": [],
   "source": [
    "# namespace! 함수 바깥의 power(global) 와 함수 안의 power(lexical) 는 다른 이름공간에 있습니다. \n",
    "# 즉, if not power에서 power가 함수 내부에 정의된 적이 없는데 평가를 하려고 하죠!!\n",
    "# 전원을 켜야합니다!!\n",
    "power=True"
   ]
  },
  {
   "cell_type": "code",
   "execution_count": null,
   "metadata": {},
   "outputs": [],
   "source": [
    "# save 를 통해 번호를 저장해 봅시다.\n",
    "save('어머니','01012314120')"
   ]
  },
  {
   "cell_type": "code",
   "execution_count": null,
   "metadata": {},
   "outputs": [],
   "source": [
    "# call 을 통해 전화를 걸어봅시다.\n",
    "call('0110203')"
   ]
  },
  {
   "cell_type": "markdown",
   "metadata": {},
   "source": [
    "### 문제점\n",
    "\n",
    "현재 코드로 구현한 핸드폰에서 잘못되었다고 느껴지거나 문제가 발생할 만한 요소들을 이야기 해 봅시다. \n",
    "\n",
    "기존의 방식대로 다른 사람의 핸드폰을 구현해야 한다면? 그 수가 엄청 많다면?? 새 파일(모듈)?"
   ]
  },
  {
   "cell_type": "markdown",
   "metadata": {},
   "source": [
    "# 클래스 및 인스턴스"
   ]
  },
  {
   "cell_type": "markdown",
   "metadata": {},
   "source": [
    "## 클래스 정의하기 (클래스 객체 생성하기)\n",
    "\n",
    "```python\n",
    "class ClassName:\n",
    "    \n",
    "```\n",
    "\n",
    "* 선언과 동시에 클래스 객체가 생성됨.\n",
    "\n",
    "* 또한, 선언된 공간은 지역 스코프(local scope)로 사용된다.\n",
    "    - 히키코모리 막내 동생의 방\n",
    "\n",
    "* 정의된 어트리뷰트 중 변수는 멤버 변수로 불리운다.\n",
    "    - 멤버 변수: 클래스 변수 / 인스턴스 변수 통칭\n",
    "\n",
    "* 정의된 함수(`def`)는 메서드로 불리운다.\n",
    "    - 모든 메서드는 함수이다.(O)\n",
    "    - 모든 함수는 메서드이다.(x)"
   ]
  },
  {
   "cell_type": "code",
   "execution_count": null,
   "metadata": {},
   "outputs": [],
   "source": [
    "# Class를 만들어봅시다.\n",
    "class TestClass:\n",
    "    \"\"\"\n",
    "    This is test class    \n",
    "    \"\"\"\n",
    "    name='TestClass'"
   ]
  },
  {
   "cell_type": "code",
   "execution_count": null,
   "metadata": {},
   "outputs": [],
   "source": [
    "print(TestClass)"
   ]
  },
  {
   "cell_type": "markdown",
   "metadata": {},
   "source": [
    "## 인스턴스 생성하기\n",
    "\n",
    "* 인스턴스 객체는 `ClassName()`을 호출함으로써 선언된다.\n",
    "    - 클래스를 호출하는 것은 함수를 호출하는 것처럼 `클래스이름()`으로 한다.\n",
    "* 인스턴스 객체와 클래스 객체는 서로 다른 이름 공간을 가지고 있다.\n",
    "    - 클래스 변수와 인스턴스 변수는 다른 이름 공간(Namespace)를 갖습니다.\n",
    "* **인스턴스 => 클래스 => 전역 순으로 탐색을 한다.**"
   ]
  },
  {
   "cell_type": "code",
   "execution_count": null,
   "metadata": {},
   "outputs": [],
   "source": [
    "# TestClass 의 인스턴스를 만들어 봅시다.\n",
    "tc=TestClass()\n",
    "print(tc)\n",
    "\n",
    "#class의 독스트링('''''')을 불러오는방법\n",
    "print(tc.__doc__)\n"
   ]
  },
  {
   "cell_type": "code",
   "execution_count": null,
   "metadata": {},
   "outputs": [],
   "source": [
    "# namespace..?\n",
    "print(tc.name)\n",
    "tc.name='tc'\n",
    "tc.v=123\n",
    "print(tc.name)\n",
    "print(TestClass.name)\n",
    "print(tc.v)\n"
   ]
  },
  {
   "cell_type": "code",
   "execution_count": null,
   "metadata": {},
   "outputs": [],
   "source": [
    "# 제일 처음에 만들었던 핸드폰 코드를 Phone 클래스로 바꿔서 작성해봅시다.\n"
   ]
  },
  {
   "cell_type": "markdown",
   "metadata": {},
   "source": [
    "* 선언시 `self`는 반드시 작성해주세요! 아래에서 다시 다룹니다."
   ]
  },
  {
   "cell_type": "code",
   "execution_count": null,
   "metadata": {},
   "outputs": [],
   "source": [
    "class phone:\n",
    "    power=False\n",
    "    number=''\n",
    "    book={}\n",
    "    model='Samsung Galaxy S10'\n",
    "    def on(self):\n",
    "        if not self.power:\n",
    "            self.power=True\n",
    "            print('---------------')\n",
    "            print('{}'.format(self.model))\n",
    "            print('---------------')\n",
    "    def off(self):\n",
    "        if self.power:\n",
    "            self.power=False\n",
    "            print('폰 꺼짐')\n",
    "            \n",
    "            \n",
    "        "
   ]
  },
  {
   "cell_type": "code",
   "execution_count": null,
   "metadata": {},
   "outputs": [],
   "source": [
    "# Phone 클래스로부터 인스턴스 객체(p)를 생성하고 출력해봅시다.\n",
    "p=phone()\n",
    "print(p.model)"
   ]
  },
  {
   "cell_type": "code",
   "execution_count": null,
   "metadata": {},
   "outputs": [],
   "source": [
    "# 클래스 Phone의 인스턴스 'justin_phone' 를 만들어봅시다. \n",
    "justin_phone=phone()"
   ]
  },
  {
   "cell_type": "code",
   "execution_count": null,
   "metadata": {},
   "outputs": [],
   "source": [
    "# 켜져 있나 확인해 봅시다.\n",
    "print(justin_phone.power)"
   ]
  },
  {
   "cell_type": "code",
   "execution_count": null,
   "metadata": {},
   "outputs": [],
   "source": [
    "# 새 폰은 꺼져있으니 켜 봅시다.\n",
    "justin_phone.on()"
   ]
  },
  {
   "cell_type": "code",
   "execution_count": null,
   "metadata": {},
   "outputs": [],
   "source": [
    "# 다시 전원 상태를 확인해 봅시다.\n",
    "print(justin_phone.power)"
   ]
  },
  {
   "cell_type": "code",
   "execution_count": null,
   "metadata": {},
   "outputs": [],
   "source": [
    "# 폰의 모델명을 확인해 봅시다.\n",
    "justin_phone.model"
   ]
  },
  {
   "cell_type": "code",
   "execution_count": null,
   "metadata": {},
   "outputs": [],
   "source": [
    "# 모델을 바꿔 봅시다.\n",
    "justin_phone.model='iPhone 6s'"
   ]
  },
  {
   "cell_type": "code",
   "execution_count": null,
   "metadata": {},
   "outputs": [],
   "source": [
    "# 폰 모델을 다시 확인해 봅시다.\n",
    "justin_phone.model"
   ]
  },
  {
   "cell_type": "code",
   "execution_count": null,
   "metadata": {},
   "outputs": [],
   "source": [
    "# 폰을 껐다 켜 봅시다.\n",
    "justin_phone.off()\n",
    "justin_phone.on()"
   ]
  },
  {
   "cell_type": "code",
   "execution_count": null,
   "metadata": {},
   "outputs": [],
   "source": [
    "# justin_phone 이 Phone 클래스의 인스턴스인지 확인해 봅시다.\n",
    "isinstance(justin_phone, phone)"
   ]
  },
  {
   "cell_type": "code",
   "execution_count": null,
   "metadata": {},
   "outputs": [],
   "source": [
    "# 같은 질문이지만, 다르게 물어 봅시다.\n",
    "type(justin_phone)==phone"
   ]
  },
  {
   "cell_type": "code",
   "execution_count": null,
   "metadata": {},
   "outputs": [],
   "source": [
    "# type을 확인해봅시다.\n",
    "print(type(justin_phone))"
   ]
  },
  {
   "cell_type": "code",
   "execution_count": null,
   "metadata": {},
   "outputs": [],
   "source": [
    "# justin_phone 을 출력해 봅시다.\n",
    "print(justin_phone)"
   ]
  },
  {
   "cell_type": "code",
   "execution_count": null,
   "metadata": {},
   "outputs": [],
   "source": [
    "# justin_phone 을 다르게 볼까요?\n",
    "justin_phone"
   ]
  },
  {
   "cell_type": "code",
   "execution_count": null,
   "metadata": {},
   "outputs": [],
   "source": [
    "# python 출력의 비밀 __repr__과 __str__\n",
    "# 특정 객체를 print() 할때 보이는 값과 \n",
    "# 그냥 객체 자체를 보여주는 값도 사실 모두 우리가 직접 바꿀 수 있습니다.\n",
    "class Phone:\n",
    "    power=False\n",
    "    book={}\n",
    "    model='Samsung Galaxy S10'\n",
    "    def on(self):\n",
    "        if not self.power:\n",
    "            self.power=True\n",
    "            print('---------------')\n",
    "            print('{}'.format(self.model))\n",
    "            print('---------------')\n",
    "    def off(self):\n",
    "        if self.power:\n",
    "            self.power=False\n",
    "            print('폰 꺼짐')\n",
    "    def __str__(self):#객체를 출력할 경우\n",
    "        return 'print 안에 넣으면 이렇게 나와요'\n",
    "    def __repr__(self):#객체를 부를 경우\n",
    "        return '그냥 객체만 놔두면 이렇게 나오지요'   "
   ]
  },
  {
   "cell_type": "code",
   "execution_count": null,
   "metadata": {},
   "outputs": [],
   "source": [
    "# 만들어 볼까요?\n",
    "p=Phone()\n",
    "p    # 객체 자체를 그냥 출력하는 경우 -> __repr__ 호출 됨\n",
    "print(p)    # print 함수를 사용하여 출력하는 경우 -> __str__ 호출(사람이 보기 편하게 출력) 됨"
   ]
  },
  {
   "cell_type": "markdown",
   "metadata": {},
   "source": [
    "## MyList 만들기\n",
    "\n",
    "> 이제 배운 것을 활용하여 나만의 리스트 객체를 만들 수 있습니다. \n",
    ">\n",
    "> `class MyList:`\n",
    ">\n",
    "\n",
    "```\n",
    "* 클래스 변수\n",
    "data : 비어 있는 리스트\n",
    "\n",
    "* 메서드 \n",
    "`append()` : 값을 받아 data 에 추가합니다. 리턴 값은 없습니다.\n",
    "`pop()` : 마지막에 있는 값을 삭제하고, 해당 값을 리턴합니다.\n",
    "`reverse()` : 제자리에서 뒤집고 리턴 값은 없습니다.\n",
    "`count(x)` : x의 개수를 리턴합니다.\n",
    "`len()  : 길이 세는것\n",
    "`clear()` : 값을 모두 삭제합니다. 리턴값은 없습니다.\n",
    "\n",
    "`__repr__()` : ex) '내 리스트에는 [1, 2, 3] 이 담겨있다.'\n",
    "```"
   ]
  },
  {
   "cell_type": "code",
   "execution_count": null,
   "metadata": {},
   "outputs": [],
   "source": [
    "# 아래에 코드를 작성해주세요.\n",
    "class MyList:\n",
    "    def __init__(self):\n",
    "        self.data=[]\n",
    "    def append(self,a):\n",
    "        print('append {}'.format(a))\n",
    "        self.data+=[a]\n",
    "    def pop(self):\n",
    "        print('pop')\n",
    "        if len(self.data):\n",
    "            temp=self.data[len(self.data)-1]\n",
    "            self.data=self.data[:-1]\n",
    "            return temp\n",
    "    def reverse(self):\n",
    "        print('reverse')\n",
    "        return self.data[::-1]\n",
    "    def count(self, a):\n",
    "        print('count')\n",
    "        temp=0\n",
    "        for i in self.data:\n",
    "            if a==i:\n",
    "                temp+=1\n",
    "        return temp\n",
    "    def len(self):\n",
    "        print('len')\n",
    "        return len(self.data)\n",
    "    \n",
    "    def clear(self):\n",
    "        print('clear')\n",
    "        self.data=[]\n",
    "    def __repr__(self):\n",
    "        \n",
    "        return '내 리스트에는 {} 이 담겨있다.'.format(self.data)\n",
    "li=MyList()\n",
    "li2=MyList()\n",
    "li.append(1)\n",
    "li.append(2)\n",
    "li.append(3)\n",
    "li2.append(4)\n",
    "li2.append(5)\n",
    "li2.append(6)\n",
    "\n",
    "print(li)\n",
    "print(li2)"
   ]
  },
  {
   "cell_type": "code",
   "execution_count": null,
   "metadata": {},
   "outputs": [],
   "source": [
    "# 확인해 봅시다. 각 해당 셀을 두번 이상 실행하면 이상하게 동작합니다. Python Tutor 에서 확인해 봅시다.\n",
    "# (모든 객체의 data 가 같은 리스트를 참조합니다.)\n",
    "\n",
    "t=MyList()\n",
    "print(t)\n",
    "t.append(2)\n",
    "print(t)\n",
    "t.append(32)\n",
    "print(t)\n",
    "t.append(4)\n",
    "print(t)\n",
    "t.append(2)\n",
    "print(t)\n",
    "print(t.pop())\n",
    "print(t)\n",
    "t.reverse()\n",
    "print(t)\n",
    "print(t.count(2))\n",
    "print(t)\n",
    "print(t.len())\n",
    "print(t)\n",
    "t.clear()\n",
    "print(t)\n",
    "t.pop()\n",
    "print(t)\n"
   ]
  },
  {
   "cell_type": "markdown",
   "metadata": {},
   "source": [
    "## 용어 정리\n",
    "\n",
    "```python\n",
    "class Person:                     #=> 클래스 정의(선언) : 클래스 객체 생성\n",
    "    name = 'unknown'              #=> 멤버 변수(data attribute)\n",
    "    def greeting(self):           #=> 멤버 메서드(메서드)\n",
    "        return f'{self.name}' \n",
    "```\n",
    "    \n",
    "    \n",
    "```python\n",
    "richard = Person()      # 인스턴스 객체 생성\n",
    "tim = Person()          # 인스턴스 객체 생성\n",
    "tim.name                # 인스턴스의 변수(속성) 호출\n",
    "tim.greeting()          # 인스턴스로 메서드 호출\n",
    "```\n",
    "\n",
    "- 참고\n",
    "    - 멤버 변수(클래스 / 인스턴스의 멤버를 의미)\n",
    "        - 클래스 변수: Class Variable shared by all instances\n",
    "        - 인스턴스 변수: Instance variable unique each instance"
   ]
  },
  {
   "cell_type": "code",
   "execution_count": 3,
   "metadata": {},
   "outputs": [],
   "source": [
    "# Person을 만들어봅시다.\n",
    "class Person:\n",
    "    name='unknown'\n",
    "    def greeting(self):#멤버 메서드\n",
    "        return 'hi!, {}'.format(self.name)\n",
    "        \n",
    "        "
   ]
  },
  {
   "cell_type": "code",
   "execution_count": 4,
   "metadata": {},
   "outputs": [
    {
     "data": {
      "text/plain": [
       "'hi!, unknown'"
      ]
     },
     "execution_count": 4,
     "metadata": {},
     "output_type": "execute_result"
    }
   ],
   "source": [
    "p1= Person() #p1 인스턴스 생성\n",
    "p1.greeting() #p1인스턴스에서 메서드 호출"
   ]
  },
  {
   "cell_type": "code",
   "execution_count": 5,
   "metadata": {},
   "outputs": [
    {
     "data": {
      "text/plain": [
       "True"
      ]
     },
     "execution_count": 5,
     "metadata": {},
     "output_type": "execute_result"
    }
   ],
   "source": [
    "# 클래스와 인스턴스간의 관계를 확인해 봅시다.\n",
    "isinstance(p1, Person)"
   ]
  },
  {
   "cell_type": "markdown",
   "metadata": {},
   "source": [
    "##  `self` : 인스턴스 객체 자기자신\n",
    "\n",
    "* C++ 혹은 자바에서의 this 키워드와 동일함. \n",
    "\n",
    "* 특별한 상황을 제외하고는 **무조건 메서드에서 `self`를 첫번째 인자로 설정한다.**\n",
    "\n",
    "* 메서드는 인스턴스 객체가 함수의 첫번째 인자로 전달되도록 되어있다.\n",
    "    - 인스턴스로 메서드를 호출할 때 인스턴스 자기 자신을 메서드의 첫번째 인자로 넘긴다."
   ]
  },
  {
   "cell_type": "code",
   "execution_count": null,
   "metadata": {},
   "outputs": [],
   "source": [
    "# p1 의 이름을 자기 이름으로 바꾸고 다시 인사해 봅시다.\n",
    "p1.name='ssafy Kim' #p1(인스턴스)의 이름공간의 변수(속성)에 'ssafy Kim' 속성 생성\n",
    "p1.greeting()\n"
   ]
  },
  {
   "cell_type": "code",
   "execution_count": null,
   "metadata": {},
   "outputs": [],
   "source": [
    "# 아까부터 궁금했던, 메서드 1번 인자 self 는 어디에 있는걸까요?\n",
    "# 실제로 이렇게 쓰지는 않지만 어떤 의미로는 이 코드가 더 직관적일 거에요.\n",
    "Person.greeting(p1)"
   ]
  },
  {
   "cell_type": "markdown",
   "metadata": {},
   "source": [
    "## 클래스-인스턴스간의 이름공간\n",
    "\n",
    "* 클래스를 정의하면, 클래스 객체가 생성되고 해당되는 이름 공간이 생성된다. \n",
    "\n",
    "* 인스턴스를 만들게 되면, 인스턴스 객체가 생성되고 해당되는 이름 공간이 생성된다. \n",
    "\n",
    "* 인스턴스의 어트리뷰트(변수)가 변경되면, 변경된 데이터를 인스턴스 객체 이름 공간에 저장한다.\n",
    "\n",
    "* 즉, 인스턴스에서 특정한 어트리뷰트에 접근하게 되면 인스턴스 => 클래스 순으로 탐색을 한다.\n",
    "    - 인스턴스에서 못찾으면 클래스에서 찾는다!"
   ]
  },
  {
   "cell_type": "code",
   "execution_count": null,
   "metadata": {},
   "outputs": [],
   "source": [
    "# 클래스 선언코드에서 메서드를 정의할 때, 왜 self 를 꼭 써준걸까요?\n",
    "class Person:\n",
    "    name = 'unknown'\n",
    "    \n",
    "    def greeting(self):\n",
    "        return f'My name is {name}' #self.name가 아니라 name을 찾으면 인스턴스변수가 아니라서\n",
    "                                        #class를 찾아보는것이 아니라 바로 전역을 찾아본다.\n",
    "        "
   ]
  },
  {
   "cell_type": "code",
   "execution_count": null,
   "metadata": {},
   "outputs": [],
   "source": [
    "# 아래에서 확인해 봅시다.\n",
    "p2=Person()\n",
    "p2.greeting()"
   ]
  },
  {
   "cell_type": "code",
   "execution_count": null,
   "metadata": {},
   "outputs": [],
   "source": [
    "# 함수 scope 를 다시한번 짚고 넘어갑시다.\n",
    "p2.name\n",
    "#p2안에서 name찾고 없으면 class로 가서 name을 찾아봄.\n",
    "#찾아서 name리턴함\n"
   ]
  },
  {
   "cell_type": "code",
   "execution_count": null,
   "metadata": {},
   "outputs": [],
   "source": [
    "# 다시, 클래스 선언코드에서 메서드를 정의할 때, 왜 self 를 꼭 써준걸까요?\n",
    "class Person:\n",
    "    name = 'unknown'\n",
    "    \n",
    "    def greeting(self):\n",
    "        return f'My name is {self.name}' "
   ]
  },
  {
   "cell_type": "code",
   "execution_count": null,
   "metadata": {},
   "outputs": [],
   "source": [
    "# 아래에서 확인해 봅시다.\n",
    "p2=Person()\n",
    "p2.greeting()"
   ]
  },
  {
   "cell_type": "code",
   "execution_count": null,
   "metadata": {},
   "outputs": [],
   "source": [
    "# 아래에서 p2 객체에게 이름을 지어 줍시다.\n",
    "p2.name='dj'"
   ]
  },
  {
   "cell_type": "code",
   "execution_count": 2,
   "metadata": {
    "scrolled": true
   },
   "outputs": [
    {
     "data": {
      "text/html": [
       "\n",
       "        <iframe\n",
       "            width=\"100%\"\n",
       "            height=\"500px\"\n",
       "            src=\"http://bit.do/oop_instro_00\"\n",
       "            frameborder=\"0\"\n",
       "            allowfullscreen\n",
       "        ></iframe>\n",
       "        "
      ],
      "text/plain": [
       "<IPython.lib.display.IFrame at 0x24fe3b77898>"
      ]
     },
     "execution_count": 2,
     "metadata": {},
     "output_type": "execute_result"
    }
   ],
   "source": [
    "# python tutor 를 통해 확인해 봅시다.\n",
    "IFrame('http://bit.do/oop_instro_00', width='100%', height='500px')"
   ]
  },
  {
   "cell_type": "markdown",
   "metadata": {},
   "source": [
    "## 생성자 / 소멸자\n",
    "\n",
    "* 생성자는 인스턴스 객체가 생성될 때 호출되는 함수이며, 소멸자는 객체가 소멸되는 과정에서 호출되는 함수입니다.\n",
    "\n",
    "```python\n",
    "def __init__(self):\n",
    "    print('생성될 때 자동으로 호출되는 메서드입니다.')\n",
    "    \n",
    "def __del__(self):\n",
    "    print('소멸될 때 자동으로 호출되는 메서드입니다.')\n",
    "```\n",
    "\n",
    "```\n",
    "__someting__\n",
    "```\n",
    "\n",
    "위의 형식처럼 양쪽에 언더스코어가 있는 메서드를 `스페셜 메서드` 혹은 `매직 메서드`라고 불립니다."
   ]
  },
  {
   "cell_type": "code",
   "execution_count": null,
   "metadata": {},
   "outputs": [],
   "source": [
    "# 생성자와 소멸자를 만들어봅시다.\n",
    "class Person:\n",
    "    def __init__(self):\n",
    "        print('b')\n",
    "    def __del__(self):\n",
    "        print('d')\n",
    "\n"
   ]
  },
  {
   "cell_type": "code",
   "execution_count": null,
   "metadata": {},
   "outputs": [],
   "source": [
    "# Person 클래스로부터 새로운 인스턴스 객체를 생성해 봅시다.\n",
    "p3=Person()"
   ]
  },
  {
   "cell_type": "code",
   "execution_count": null,
   "metadata": {},
   "outputs": [],
   "source": [
    "# 생성된 인스턴스 객체를 소멸시켜 봅시다.\n",
    "del p3"
   ]
  },
  {
   "cell_type": "code",
   "execution_count": null,
   "metadata": {},
   "outputs": [],
   "source": [
    "# 생성자 역시 메서드(함수)기 때문에 추가인자를 받을 수 있습니다.\n",
    "class Person:\n",
    "    def __init__(self, name='unknown'):\n",
    "        self.name=name\n",
    "        print('{} b'.format(self.name))\n",
    "    def __del__(self):\n",
    "        print('{} d'.format(self.name))"
   ]
  },
  {
   "cell_type": "code",
   "execution_count": null,
   "metadata": {},
   "outputs": [],
   "source": [
    "# 생성과 동시에 인스턴스 변수에 값을 할당합니다.\n",
    "p3=Person()"
   ]
  },
  {
   "cell_type": "markdown",
   "metadata": {},
   "source": [
    "## 실습 (종합)\n",
    "\n",
    "> 사실 이전에 작성한 Mylist는 완벽하지 않았습니다. \n",
    ">\n",
    "> 한번 제대로 된 자료구조를 만들어보겠습니다. \n",
    ">\n",
    "> `Stack` 클래스를 간략하게 구현해봅시다.\n",
    "\n",
    "> [Stack](https://ko.wikipedia.org/wiki/%EC%8A%A4%ED%83%9D) : 스택은 LIFO(Last in First Out)으로 구조화된 자료구조를 뜻합니다.\n",
    "\n",
    "1. `empty()`: 스택이 비었다면 True을 주고, 그렇지 않다면 False가 된다.\n",
    "\n",
    "2. `top()`: 스택의 가장 마지막 데이터를 넘겨준다. 스택이 비었다면 None을 리턴한다.\n",
    "\n",
    "3. `pop()`: 스택의 가장 마지막 데이터의 값을 넘겨주고, 해당 데이터를 삭제한다. 스택이 비었다면 None을 리턴한다.\n",
    "\n",
    "4. `push()`: 스택의 가장 마지막 데이터 뒤에 값을 추가한다. 리턴 값은 없다.\n",
    "\n",
    "**다 작성했다면 __repr__ 을 통해 예쁘게 출력까지 해봅시다.**"
   ]
  },
  {
   "cell_type": "code",
   "execution_count": null,
   "metadata": {},
   "outputs": [],
   "source": [
    "# 여기에 코드를 작성해주세요.\n",
    "class Stack:\n",
    "    def __init__(self):\n",
    "        self.list=[]\n",
    "        \n",
    "    def empty(self):\n",
    "        return not bool(self.list)\n",
    "    \n",
    "    def top(self):\n",
    "        if self.list:\n",
    "            return self.list[-1]\n",
    "        else:\n",
    "            return None\n",
    "    \n",
    "    def pop(self):\n",
    "        if not self.empty():\n",
    "            temp=self.list[-1]\n",
    "            self.list=self.list[:-1]\n",
    "            return temp        \n",
    "                    \n",
    "    def push(self, a):\n",
    "        self.list+=[a]\n",
    "        \n",
    "    def __repr__(self):\n",
    "        return '내 리스트에는 {} 이 담겨있다.'.format(self.list)\n",
    "        \n",
    "ml=Stack()\n",
    "print(ml)\n",
    "print(ml.empty())\n",
    "print(ml)\n",
    "ml.push(3)\n",
    "print(ml)\n",
    "ml.top()\n",
    "print(ml)\n",
    "ml.push(4)\n",
    "print(ml)\n",
    "print(ml.pop())\n",
    "print(ml)\n",
    "print(ml.empty())\n",
    "print(ml)\n",
    "        "
   ]
  },
  {
   "cell_type": "markdown",
   "metadata": {},
   "source": [
    "## 포켓몬 구현하기\n",
    "\n",
    "> 피카츄를 클래스-인스턴스로 구현해 봅시다. 게임을 만든다면 아래와 같이 먼저 기획을 하고 코드로 구현하게 됩니다.\n",
    "우선 아래와 같이 구현해 보고, 추가로 본인이 원하는 대로 구현 및 수정해 봅시다.\n",
    "\n",
    "모든 피카츄는 다음과 같은 속성을 갖습니다.\n",
    "* `name`: 이름\n",
    "* `level`: 레벨\n",
    "    * 레벨은 시작할 때 모두 5 입니다.\n",
    "* `hp`: 체력\n",
    "    * 체력은 `level` * 20 입니다.\n",
    "* `exp`: 경험치\n",
    "    * 상대방을 쓰러뜨리면 상대방 `level` * 15 를 획득합니다.\n",
    "    * 경험치는 `level` * 100 이 되면, 레벨이 하나 올라가고 0부터 추가 됩니다. \n",
    "\n",
    "모든 피카츄는 다음과 같은 행동(메서드)을 할 수 있습니다.\n",
    "* `bark()`: 울기. `'pikachu'` 를 출력합니다.\n",
    "* `body_attack()`: 몸통박치기. 상대방의 hp 를 내 `level` * 5 만큼 차감합니다.\n",
    "* `thousond_volt()`: 십만볼트. 상대방의 hp 를 내 `level` * 7 만큼 차감합니다."
   ]
  },
  {
   "cell_type": "code",
   "execution_count": 9,
   "metadata": {},
   "outputs": [],
   "source": [
    "# 아래에 코드를 작성해주세요.\n",
    "class Pikachu:\n",
    "    def __init__(self,name):\n",
    "        self.name=name\n",
    "        self.level=5\n",
    "        self.hp=self.level*20\n",
    "        self.exp=0\n",
    "    def bark(self):\n",
    "        print('pikachu')\n",
    "    \n",
    "    def body_attack(self,enemy):\n",
    "        try:\n",
    "            print('{}, {}에게 body_attack'.format(self.name, enemy.name))\n",
    "            enemy.hp=enemy.hp-self.level*5\n",
    "            print('{}의 체력 {}/{}'.format(enemy.name, enemy.hp, enemy.level*20))\n",
    "            if enemy.hp<=0:\n",
    "                print('{}은 body_attack에 의해 사망했다.'.format(enemy.name))\n",
    "\n",
    "                addexp=enemy.level*15\n",
    "                \n",
    "                print('{}은 경험치 {} 획득.'.format(self.name,addexp))\n",
    "                self.exp+=addexp\n",
    "                if self.exp>=self.level*100:\n",
    "                    print('{}, 레벨 업'.format(self.name))\n",
    "                    self.lvUp()\n",
    "                    print('{}레벨이 되었다.'.format(self.level))\n",
    "        except:\n",
    "            print('{}을 찾을 수 없습니다.'.format(enemy.name))\n",
    "    def thousond_volt(self,enemy):\n",
    "        print('{}, {}에게 thousond_volt'.format(self.name, enemy.name))\n",
    "        enemy.hp=enemy.hp-self.level*7\n",
    "        print('{}의 체력 {}/{}'.format(enemy.name, enemy.hp, enemy.level*20))\n",
    "        if enemy.hp<=0:\n",
    "            print('{}은 thousond_volt에 의해 사망했다.'.format(enemy.name))\n",
    "            \n",
    "            addexp=enemy.level*15\n",
    "            \n",
    "            print('{}은 경험치 {} 획득.'.format(self.name,addexp))\n",
    "            self.exp+=addexp\n",
    "            if self.exp>=self.level*100:\n",
    "                print('{}, 레벨 업'.format(self.name))\n",
    "                self.lvUp()\n",
    "                print('{}레벨이 되었다.'.format(self.level))\n",
    "                \n",
    "    def lvUp(self):\n",
    "        self.exp-=self.level*100\n",
    "        self.level+=1\n",
    "        self.hp=self.level*20\n",
    "a1=Pikachu('a1')\n",
    "a2=Pikachu('a2')\n",
    "a3=Pikachu('a3')\n",
    "a4=Pikachu('a4')\n",
    "a5=Pikachu('a5')\n",
    "b1=Pikachu('b1')\n",
    "b2=Pikachu('b2')\n",
    "b3=Pikachu('b3')\n",
    "b4=Pikachu('b4')\n",
    "b5=Pikachu('b5')        "
   ]
  },
  {
   "cell_type": "code",
   "execution_count": 6,
   "metadata": {},
   "outputs": [],
   "source": [
    "class Pikachu:\n",
    "    def __init__(self,name):\n",
    "        self.name=name\n",
    "        self.level=5\n",
    "        self.hp=self.level*20\n",
    "        self.exp=0\n",
    "    def bark(self):\n",
    "        print('pikachu')\n",
    "    def chk_enemy(self, enemy):\n",
    "        if enemy.hp<=0:\n",
    "            print('사망')\n",
    "            self.getexp(enemy.level)\n",
    "    def getexp(self,level):\n",
    "        self.exp+=level*15\n",
    "        print('경험치 획득 현재/총량')\n",
    "        if self.exp >=self.level*100:\n",
    "            self.exp=self.exp-self.level*100\n",
    "            self.level+=1\n",
    "            print('레벨이 ~으로 되었다.')\n",
    "                       \n",
    "    def body_attack(self,enemy):\n",
    "        if enemy.hp>0:\n",
    "            damage=self.level*5\n",
    "            enemy.hp-=damage\n",
    "            print(enemy.hp)\n",
    "            self.chk_enemy(enemy)\n",
    "        else:\n",
    "            print('이미 사망')\n",
    "            \n",
    "        \n",
    "    def thousand_volt(self,enemy):\n",
    "        if enemy.hp>0:\n",
    "            damage=self.level*7\n",
    "            enemy.hp-=damage\n",
    "            self.chk_enemy(enemy)\n",
    "            \n",
    "            \n",
    "    def __repr__(self):\n",
    "        return '레벨 hp exp'\n",
    "a1=Pikachu('a1')\n",
    "a2=Pikachu('a2')\n",
    "a3=Pikachu('a3')\n",
    "a4=Pikachu('a4')\n",
    "a5=Pikachu('a5')\n",
    "b1=Pikachu('b1')\n",
    "b2=Pikachu('b2')\n",
    "b3=Pikachu('b3')\n",
    "b4=Pikachu('b4')\n",
    "b5=Pikachu('b5')"
   ]
  },
  {
   "cell_type": "code",
   "execution_count": 7,
   "metadata": {},
   "outputs": [
    {
     "name": "stdout",
     "output_type": "stream",
     "text": [
      "-----------0라운드-----------\n",
      "a1의 체력: 100\n",
      "a2의 체력: 100\n",
      "pikachu\n",
      "a1가 a2에게 울부짖기 시전\n",
      "아무런 피해를 입히지 못햇다.\n",
      "----대전끝---\n",
      "\n",
      "-----------1라운드-----------\n",
      "a1의 체력: 100\n",
      "a2의 체력: 100\n",
      "a2이/가 a1에게 몸통박치기 시전\n",
      "----대전끝---\n",
      "\n",
      "-----------2라운드-----------\n",
      "a1의 체력: 65\n",
      "a2의 체력: 100\n",
      "pikachu\n",
      "a1가 a2에게 울부짖기 시전\n",
      "아무런 피해를 입히지 못햇다.\n",
      "----대전끝---\n",
      "\n",
      "-----------3라운드-----------\n",
      "a1의 체력: 65\n",
      "a2의 체력: 100\n",
      "pikachu\n",
      "a1가 a2에게 울부짖기 시전\n",
      "아무런 피해를 입히지 못햇다.\n",
      "----대전끝---\n",
      "\n",
      "-----------4라운드-----------\n",
      "a1의 체력: 65\n",
      "a2의 체력: 100\n",
      "a1이/가 a2에게 몸통박치기 시전\n",
      "----대전끝---\n",
      "\n",
      "-----------5라운드-----------\n",
      "a1의 체력: 65\n",
      "a2의 체력: 65\n",
      "pikachu\n",
      "a2가 a1에게 울부짖기 시전\n",
      "아무런 피해를 입히지 못햇다.\n",
      "----대전끝---\n",
      "\n",
      "-----------6라운드-----------\n",
      "a1의 체력: 65\n",
      "a2의 체력: 65\n",
      "40\n",
      "a1이/가 a2에게 몸통박치기 시전\n",
      "----대전끝---\n",
      "\n",
      "-----------7라운드-----------\n",
      "a1의 체력: 65\n",
      "a2의 체력: 40\n",
      "pikachu\n",
      "a1가 a2에게 울부짖기 시전\n",
      "아무런 피해를 입히지 못햇다.\n",
      "----대전끝---\n",
      "\n",
      "-----------8라운드-----------\n",
      "a1의 체력: 65\n",
      "a2의 체력: 40\n",
      "a2이/가 a1에게 몸통박치기 시전\n",
      "----대전끝---\n",
      "\n",
      "-----------9라운드-----------\n",
      "a1의 체력: 30\n",
      "a2의 체력: 40\n",
      "사망\n",
      "경험치 획득 현재/총량\n",
      "a2이/가 a1에게 몸통박치기 시전\n",
      "----대전끝---\n",
      "\n"
     ]
    }
   ],
   "source": [
    "import random\n",
    "players = [a1, a2]\n",
    "cnt=0\n",
    "while players[0].hp>=0 and players[1].hp>=0:\n",
    "    print('-----------{}라운드-----------'.format(cnt))\n",
    "    print('{}의 체력: {}'.format(players[0].name, players[0].hp))\n",
    "    print('{}의 체력: {}'.format(players[1].name, players[1].hp))\n",
    "    attacker=random.choice(players)\n",
    "    defencer=players[1] if attacker==players[0] else players[0]\n",
    "    atk_num=random.randint(0,2)\n",
    "    if atk_num==0:\n",
    "        attacker.bark()\n",
    "        print('{}가 {}에게 울부짖기 시전'.format(attacker.name, defencer.name))\n",
    "        print('아무런 피해를 입히지 못햇다.')\n",
    "    elif atk_num==1:\n",
    "        attacker.body_attack(defencer)\n",
    "        print('{}이/가 {}에게 몸통박치기 시전'.format(attacker.name, defencer.name))\n",
    "    else:\n",
    "        attacker.thousand_volt(defencer)\n",
    "        print('{}이/가 {}에게 몸통박치기 시전'.format(attacker.name, defencer.name))\n",
    "    \n",
    "    cnt+=1\n",
    "    print('----대전끝---')\n",
    "    print()\n",
    "        \n",
    "    "
   ]
  },
  {
   "cell_type": "markdown",
   "metadata": {},
   "source": [
    "### Workshop\n",
    "> 다음 조건에 맞는 Circle 클래스를 만들어 보세요.\n",
    "\n",
    "클래스 속성\n",
    "* `pi`: 3.14\n",
    "\n",
    "인스턴스 속성 (초기화 시 필요한 값들)\n",
    "* `r`: 원의 반지름 (필수 입력)\n",
    "* `x`: x좌표 (default 0)\n",
    "* `y`: y좌표 (default 0)\n",
    "\n",
    "인스턴스 메서드\n",
    "* `area()`: 원의 넓이를 반환\n",
    "* `circumference()`: 원의 둘레를 반환\n",
    "* `center()`: 원의 중심인 (x, y) 좌표를 튜플로 반환\n",
    "* `move(x, y)`: 원의 중심인 (x, y) 좌표를 입력받은 값으로 변경하고 변경된 좌표값을 튜플로 반환"
   ]
  },
  {
   "cell_type": "code",
   "execution_count": null,
   "metadata": {},
   "outputs": [],
   "source": [
    "# 여기에 클래스를 정의하세요\n",
    "class Circle:\n",
    "    def __init__(self, r, x=0, y=0):\n",
    "        self.pi=3.14\n",
    "        self.r=r\n",
    "        self.x=x\n",
    "        self.y=y\n",
    "    def area(self):\n",
    "        return self.r**2*self.pi\n",
    "    def circumference(self):\n",
    "        return 2*self.r*self.pi\n",
    "    def center(self):\n",
    "        return self.x, self.y\n",
    "    def move(self, x, y):\n",
    "        self.x=x\n",
    "        self.y=y\n",
    "        return self.x, self.y\n",
    "mc=Circle(3)\n",
    "print(mc.area())\n",
    "print(mc.circumference())\n",
    "\n",
    "print(mc.center())\n",
    "\n",
    "print(mc.move(1,2))\n",
    "\n",
    "print(mc.center())\n",
    "\n",
    "        "
   ]
  }
 ],
 "metadata": {
  "kernelspec": {
   "display_name": "Python 3",
   "language": "python",
   "name": "python3"
  },
  "language_info": {
   "codemirror_mode": {
    "name": "ipython",
    "version": 3
   },
   "file_extension": ".py",
   "mimetype": "text/x-python",
   "name": "python",
   "nbconvert_exporter": "python",
   "pygments_lexer": "ipython3",
   "version": "3.7.7"
  },
  "latex_envs": {
   "LaTeX_envs_menu_present": true,
   "autoclose": false,
   "autocomplete": true,
   "bibliofile": "biblio.bib",
   "cite_by": "apalike",
   "current_citInitial": 1,
   "eqLabelWithNumbers": true,
   "eqNumInitial": 1,
   "hotkeys": {
    "equation": "Ctrl-E",
    "itemize": "Ctrl-I"
   },
   "labels_anchors": false,
   "latex_user_defs": false,
   "report_style_numbering": false,
   "user_envs_cfg": false
  },
  "toc": {
   "base_numbering": 1,
   "nav_menu": {},
   "number_sections": true,
   "sideBar": true,
   "skip_h1_title": false,
   "title_cell": "Table of Contents",
   "title_sidebar": "Contents",
   "toc_cell": false,
   "toc_position": {
    "height": "calc(100% - 180px)",
    "left": "10px",
    "top": "150px",
    "width": "206.8px"
   },
   "toc_section_display": true,
   "toc_window_display": false
  }
 },
 "nbformat": 4,
 "nbformat_minor": 2
}
