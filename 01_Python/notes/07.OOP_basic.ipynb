{
 "cells": [
  {
   "cell_type": "code",
   "execution_count": null,
   "metadata": {},
   "outputs": [],
   "source": [
    "from IPython.display import IFrame"
   ]
  },
  {
   "cell_type": "markdown",
   "metadata": {},
   "source": [
    "# OOP with python\n",
    "\n",
    "## 시작하기전에\n",
    "\n",
    "<wikipedia - 객체지향 프로그래밍> \n",
    ">\n",
    "> 객체 지향 프로그래밍(영어: Object-Oriented Programming, OOP)은 컴퓨터 프로그래밍의 패러다임의 하나이다. 객체 지향 프로그래밍은 컴퓨터 프로그램을 명령어의 목록으로 보는 시각에서 벗어나 여러 개의 독립된 단위, 즉 \"객체\"들의 모임으로 파악하고자 하는 것이다. 각각의 객체는 메시지를 주고받고, 데이터를 처리할 수 있다.\n",
    ">\n",
    "> 명령형 프로그래밍인 절차지향 프로그래밍에서 발전된 형태를 나타내며, 기본 구성요소는 다음과 같다.\n",
    "\n",
    "* 클래스(Class) \n",
    "    - 같은 종류(또는 문제 해결을 위한)의 집단에 속하는 **속성(attribute)**과 **행위(behavior)**를 정의한 것으로 객체지향 프로그램의 기본적인 사용자 정의 데이터형(user define data type)이라고 할 수 있다\n",
    "    - 클래스는 프로그래머가 아니지만 해결해야 할 문제가 속하는 영역에 종사하는 사람이라면 사용할 수 있고, 다른 클래스 또는 외부 요소와 독립적으로 디자인하여야 한다.\n",
    "\n",
    "\n",
    "* 인스턴스(instance) \n",
    "    - 클래스의 인스턴스/객체(실제로 메모리상에 할당된 것)이다. \n",
    "    - 객체는 자신 고유의 속성(attribute)을 가지며 클래스에서 정의한 행위(behavior)를 수행할 수 있다. \n",
    "    - 객체의 행위는 클래스에 정의된 행위에 대한 정의(메서드)를 공유함으로써 메모리를 경제적으로 사용한다.\n",
    "\n",
    "\n",
    "* 속성(attribute) \n",
    "    - 클래스/인스턴스 가 가지고 있는 속성(값)\n",
    "\n",
    "\n",
    "* 메서드(Method) \n",
    "    - 클래스/인스턴스 가 할 수 있는 행위(함수)"
   ]
  },
  {
   "cell_type": "markdown",
   "metadata": {},
   "source": [
    "\n",
    "\n",
    "| class / type | instance                 | attributes       | methods                                |\n",
    "| ------------ | ------------------------ | ---------------- | -------------------------------------- |\n",
    "| `str`        | `''`, `'hello'`, `'123'` |       _          | `.capitalize()`, `.join()`, `.split()` |\n",
    "| `list`       | `[]`, `['a', 'b']`       |       _          | `.append()`, `reverse()`, `sort()`     |\n",
    "| `dict`       | `{}`, `{'key': 'value'}` |       _          | `.keys()`, `.values()`, `.items().`    |\n",
    "| `int`        | `0`, `1`, `2`            |       _          |                                        |"
   ]
  },
  {
   "cell_type": "code",
   "execution_count": 15,
   "metadata": {},
   "outputs": [
    {
     "name": "stdout",
     "output_type": "stream",
     "text": [
      "<class 'complex'>\n"
     ]
    }
   ],
   "source": [
    "# 복소수를 하나 만들어보고, 타입을 출력해봅시다.\n",
    "im=1+12j\n",
    "print(type(im))"
   ]
  },
  {
   "cell_type": "markdown",
   "metadata": {},
   "source": [
    "> 위에서 말한 속성(값)과 행위(메서드)를 명확히 구분해 봅시다\n",
    "\n",
    "* `complex` class의 객체들의 속성들을 확인해 봅시다."
   ]
  },
  {
   "cell_type": "code",
   "execution_count": 16,
   "metadata": {},
   "outputs": [
    {
     "name": "stdout",
     "output_type": "stream",
     "text": [
      "1.0\n",
      "12.0\n"
     ]
    }
   ],
   "source": [
    "# 허수부랑 실수부를 함께 출력해봅시다. complex 객체의 실수 속성(attribute)과 허수 속성(attribute)이라고도 표현 가능합니다.\n",
    "print(im.real)\n",
    "print(im.imag)"
   ]
  },
  {
   "cell_type": "markdown",
   "metadata": {},
   "source": [
    "* `list` class의 객체들이 할 수 있는 행위(메서드)들을 확인해 봅시다."
   ]
  },
  {
   "cell_type": "code",
   "execution_count": null,
   "metadata": {},
   "outputs": [],
   "source": [
    "# 리스트를 하나 만들고 정렬해봅시다. list 객체의 메서드 실행이라고도 표현 가능합니다."
   ]
  },
  {
   "cell_type": "code",
   "execution_count": 19,
   "metadata": {},
   "outputs": [
    {
     "name": "stdout",
     "output_type": "stream",
     "text": [
      "<class 'list'>\n",
      "[1, 2, 3]\n"
     ]
    }
   ],
   "source": [
    "my_list = [3, 2, 1]\n",
    "print(type(my_list))\n",
    "my_list.sort()\n",
    "print(my_list)"
   ]
  },
  {
   "cell_type": "code",
   "execution_count": 20,
   "metadata": {},
   "outputs": [
    {
     "name": "stdout",
     "output_type": "stream",
     "text": [
      "['__add__', '__class__', '__contains__', '__delattr__', '__delitem__', '__dir__', '__doc__', '__eq__', '__format__', '__ge__', '__getattribute__', '__getitem__', '__gt__', '__hash__', '__iadd__', '__imul__', '__init__', '__init_subclass__', '__iter__', '__le__', '__len__', '__lt__', '__mul__', '__ne__', '__new__', '__reduce__', '__reduce_ex__', '__repr__', '__reversed__', '__rmul__', '__setattr__', '__setitem__', '__sizeof__', '__str__', '__subclasshook__', 'append', 'clear', 'copy', 'count', 'extend', 'index', 'insert', 'pop', 'remove', 'reverse', 'sort']\n"
     ]
    }
   ],
   "source": [
    "# list class 의 객체들이 할 수 있는 것들을 알아봅시다. (list 객체가 가지고 있는 모든 속성과 메서드를 보여줍니다.)\n",
    "print(dir(list))"
   ]
  },
  {
   "cell_type": "markdown",
   "metadata": {},
   "source": [
    "## 실습 (without OOP)\n",
    "\n",
    "> 프로그래밍으로, 현재 나의 핸드폰을 코드로 옮겨봅시다.\n",
    "\n",
    "**정답은 없습니다. 자유롭게 구현해 봅시다.**\n",
    "\n",
    "* 핸드폰은 다음과 같은 속성(값)을 가지고 있습니다.\n",
    "    * 전원(`power`) - `bool`\n",
    "    * 내 전화번호(`number`) - `str`\n",
    "    * 전화번호부(`book`) - `dict`\n",
    "    * 모델명(`model`) - `str`\n",
    "\n",
    "* 핸드폰은 다음과 같은 다음과 같은 행동(함수)을 할 수 있습니다.\n",
    "    * 켜기(`on()`)\n",
    "    * 끄기(`off()`)\n",
    "    * 내 전화번호 설정하기(`set_my_number(number)`)\n",
    "    * 전화걸기(`call(number)`)\n",
    "    * 전화번호부에 번호 저장하기(`save(name, number)`)"
   ]
  },
  {
   "cell_type": "code",
   "execution_count": 42,
   "metadata": {},
   "outputs": [
    {
     "name": "stdout",
     "output_type": "stream",
     "text": [
      "off\n",
      "[['전원 상태', 0], ['내 전화번호'], ['전화번호부', {}], ['모델명']]\n",
      "on\n",
      "[['전원 상태', 1], ['내 전화번호'], ['전화번호부', {}], ['모델명']]\n",
      "call\n",
      "0100011001으로 전화를 걸었습니다.\n",
      "[['전원 상태', 1], ['내 전화번호'], ['전화번호부', {}], ['모델명']]\n",
      "set_model_name\n",
      "[['전원 상태', 1], ['내 전화번호'], ['전화번호부', {}], ['모델명', 's3']]\n",
      "set_model_name\n",
      "[['전원 상태', 1], ['내 전화번호'], ['전화번호부', {}], ['모델명', 's7']]\n",
      "set_model_name\n",
      "[['전원 상태', 1], ['내 전화번호'], ['전화번호부', {}], ['모델명', 's10']]\n",
      "set_my_number\n",
      "[['전원 상태', 1], ['내 전화번호', '010102030304'], ['전화번호부', {}], ['모델명', 's10']]\n",
      "set_my_number\n",
      "[['전원 상태', 1], ['내 전화번호', '010111'], ['전화번호부', {}], ['모델명', 's10']]\n",
      "set_my_number\n",
      "[['전원 상태', 1], ['내 전화번호', '444001'], ['전화번호부', {}], ['모델명', 's10']]\n",
      "save\n",
      "[['전원 상태', 1], ['내 전화번호', '444001'], ['전화번호부', {'홍길동': '010112304'}], ['모델명', 's10']]\n",
      "save\n",
      "[['전원 상태', 1], ['내 전화번호', '444001'], ['전화번호부', {'홍길동': '010112304', 'sdfa': '01011737372304'}], ['모델명', 's10']]\n",
      "save\n",
      "[['전원 상태', 1], ['내 전화번호', '444001'], ['전화번호부', {'홍길동': '010112304', 'sdfa': '01011737372304', '홍erwrwt길동': 'd112314'}], ['모델명', 's10']]\n",
      "save\n",
      "[['전원 상태', 1], ['내 전화번호', '444001'], ['전화번호부', {'홍길동': '010112304', 'sdfa': '01011737372304', '홍erwrwt길동': 'd112314', 'wetyhdfa': '0101154546322304'}], ['모델명', 's10']]\n"
     ]
    }
   ],
   "source": [
    "# 아래에 자유롭게 코드를 작성해보세요.\n",
    "\n",
    "def on(*a):\n",
    "    print('on')\n",
    "    a[0][1]=1\n",
    "    print(phone)\n",
    "    \n",
    "def off(*a):\n",
    "    print('off')\n",
    "    a[0][1]=0\n",
    "    print(phone)\n",
    "    \n",
    "def set_my_number(b,*a):\n",
    "    print('set_my_number')\n",
    "    if a[0][1]:\n",
    "        if len(a[1])>1:\n",
    "            a[1][1]=b\n",
    "        else:\n",
    "            a[1].append(b)\n",
    "    else:\n",
    "        print('전원이 꺼져 있습니다.')\n",
    "    print(phone)\n",
    "    \n",
    "def call(b,*a):\n",
    "    print('call')\n",
    "    if a[0][1]:\n",
    "        print('{}으로 전화를 걸었습니다.'.format(b))\n",
    "    else:\n",
    "        print('전원이 꺼져 있습니다.')\n",
    "    print(phone)\n",
    "\n",
    "def save(b, c, *a):    \n",
    "    print('save')\n",
    "    if a[0][1]:\n",
    "        a[2][1][b]=c\n",
    "    else:\n",
    "        print('전원이 꺼져 있습니다.')\n",
    "    print(phone)\n",
    "\n",
    "\n",
    "def set_model_name(b,*a):\n",
    "    print('set_model_name')\n",
    "    if a[0][1]:\n",
    "        if len(a[3])>1:\n",
    "            a[3][1]=b\n",
    "        else:\n",
    "            a[3].append(b)\n",
    "    else:\n",
    "        print('전원이 꺼져 있습니다.')\n",
    "    print(phone)\n",
    "\n",
    "\n",
    "\n",
    "phone=[['전원 상태',0],['내 전화번호'],['전화번호부',{}],['모델명']]\n",
    "\n",
    "off(*phone)\n",
    "on(*phone)\n",
    "call('0100011001',*phone)\n",
    "set_model_name('s3',*phone)\n",
    "set_model_name('s7',*phone)\n",
    "set_model_name('s10',*phone)\n",
    "set_my_number('010102030304',*phone)\n",
    "set_my_number('010111',*phone)\n",
    "set_my_number('444001',*phone)\n",
    "save('홍길동','010112304',*phone)\n",
    "save('sdfa','01011737372304',*phone)\n",
    "save('홍erwrwt길동','d112314',*phone)\n",
    "save('wetyhdfa','0101154546322304',*phone)\n"
   ]
  },
  {
   "cell_type": "code",
   "execution_count": 63,
   "metadata": {},
   "outputs": [],
   "source": [
    "power=False\n",
    "model='samsung galaxy'\n",
    "book={}\n",
    "def on():\n",
    "    if not power:\n",
    "        power = True\n",
    "        return power\n",
    "def off():\n",
    "    if power:\n",
    "        power=False\n",
    "        return power\n",
    "def set_my_number(number):\n",
    "    if power:\n",
    "        number=number\n",
    "\n",
    "def call(number):\n",
    "    if power:\n",
    "        if number in book:\n",
    "            print('{}에게 전화중입니다.'.format(book[number]))\n",
    "        else:\n",
    "            print('{}에게 전화중입니다.'.format(number))\n",
    "    \n",
    "def save(name, number):\n",
    "    if power:\n",
    "        book[name]=number\n",
    "        return book\n",
    "\n",
    "        \n",
    "    "
   ]
  },
  {
   "cell_type": "code",
   "execution_count": 44,
   "metadata": {},
   "outputs": [],
   "source": [
    "# 핸드폰을 켜지 않고 이런저런 일을 해 봅시다. 긴급 상황입니다. 112에 전화를 하죠.\n",
    "call('112')"
   ]
  },
  {
   "cell_type": "code",
   "execution_count": 64,
   "metadata": {},
   "outputs": [
    {
     "ename": "UnboundLocalError",
     "evalue": "local variable 'power' referenced before assignment",
     "output_type": "error",
     "traceback": [
      "\u001b[1;31m---------------------------------------------------------------------------\u001b[0m",
      "\u001b[1;31mUnboundLocalError\u001b[0m                         Traceback (most recent call last)",
      "\u001b[1;32m<ipython-input-64-d37f00ff1cfc>\u001b[0m in \u001b[0;36m<module>\u001b[1;34m\u001b[0m\n\u001b[0;32m      1\u001b[0m \u001b[1;31m# 전화가 안걸려요. 생각해보니.. 핸드폰을 안켰어요. 핸드폰을 켜봅시다.\u001b[0m\u001b[1;33m\u001b[0m\u001b[1;33m\u001b[0m\u001b[1;33m\u001b[0m\u001b[0m\n\u001b[1;32m----> 2\u001b[1;33m \u001b[0mon\u001b[0m\u001b[1;33m(\u001b[0m\u001b[1;33m)\u001b[0m\u001b[1;33m\u001b[0m\u001b[1;33m\u001b[0m\u001b[0m\n\u001b[0m",
      "\u001b[1;32m<ipython-input-63-be2896d901af>\u001b[0m in \u001b[0;36mon\u001b[1;34m()\u001b[0m\n\u001b[0;32m      3\u001b[0m \u001b[0mbook\u001b[0m\u001b[1;33m=\u001b[0m\u001b[1;33m{\u001b[0m\u001b[1;33m}\u001b[0m\u001b[1;33m\u001b[0m\u001b[1;33m\u001b[0m\u001b[0m\n\u001b[0;32m      4\u001b[0m \u001b[1;32mdef\u001b[0m \u001b[0mon\u001b[0m\u001b[1;33m(\u001b[0m\u001b[1;33m)\u001b[0m\u001b[1;33m:\u001b[0m\u001b[1;33m\u001b[0m\u001b[1;33m\u001b[0m\u001b[0m\n\u001b[1;32m----> 5\u001b[1;33m     \u001b[1;32mif\u001b[0m \u001b[1;32mnot\u001b[0m \u001b[0mpower\u001b[0m\u001b[1;33m:\u001b[0m\u001b[1;33m\u001b[0m\u001b[1;33m\u001b[0m\u001b[0m\n\u001b[0m\u001b[0;32m      6\u001b[0m         \u001b[0mpower\u001b[0m \u001b[1;33m=\u001b[0m \u001b[1;32mTrue\u001b[0m\u001b[1;33m\u001b[0m\u001b[1;33m\u001b[0m\u001b[0m\n\u001b[0;32m      7\u001b[0m         \u001b[1;32mreturn\u001b[0m \u001b[0mpower\u001b[0m\u001b[1;33m\u001b[0m\u001b[1;33m\u001b[0m\u001b[0m\n",
      "\u001b[1;31mUnboundLocalError\u001b[0m: local variable 'power' referenced before assignment"
     ]
    }
   ],
   "source": [
    "# 전화가 안걸려요. 생각해보니.. 핸드폰을 안켰어요. 핸드폰을 켜봅시다. \n",
    "on()"
   ]
  },
  {
   "cell_type": "code",
   "execution_count": null,
   "metadata": {},
   "outputs": [],
   "source": [
    "# 켜지지 않고 에러가 납니다.. 어째서 그런 걸까요?"
   ]
  },
  {
   "cell_type": "code",
   "execution_count": 65,
   "metadata": {},
   "outputs": [],
   "source": [
    "# namespace! 함수 바깥의 power(global) 와 함수 안의 power(lexical) 는 다른 이름공간에 있습니다. \n",
    "# 즉, if not power에서 power가 함수 내부에 정의된 적이 없는데 평가를 하려고 하죠!!\n",
    "# 전원을 켜야합니다!!\n",
    "power=True"
   ]
  },
  {
   "cell_type": "code",
   "execution_count": 66,
   "metadata": {},
   "outputs": [
    {
     "data": {
      "text/plain": [
       "{'어머니': '01012314120'}"
      ]
     },
     "execution_count": 66,
     "metadata": {},
     "output_type": "execute_result"
    }
   ],
   "source": [
    "# save 를 통해 번호를 저장해 봅시다.\n",
    "save('어머니','01012314120')"
   ]
  },
  {
   "cell_type": "code",
   "execution_count": 67,
   "metadata": {},
   "outputs": [
    {
     "name": "stdout",
     "output_type": "stream",
     "text": [
      "0110203에게 전화중입니다.\n"
     ]
    }
   ],
   "source": [
    "# call 을 통해 전화를 걸어봅시다.\n",
    "call('0110203')"
   ]
  },
  {
   "cell_type": "markdown",
   "metadata": {},
   "source": [
    "### 문제점\n",
    "\n",
    "현재 코드로 구현한 핸드폰에서 잘못되었다고 느껴지거나 문제가 발생할 만한 요소들을 이야기 해 봅시다. \n",
    "\n",
    "기존의 방식대로 다른 사람의 핸드폰을 구현해야 한다면? 그 수가 엄청 많다면?? 새 파일(모듈)?"
   ]
  },
  {
   "cell_type": "markdown",
   "metadata": {},
   "source": [
    "# 클래스 및 인스턴스"
   ]
  },
  {
   "cell_type": "markdown",
   "metadata": {},
   "source": [
    "## 클래스 정의하기 (클래스 객체 생성하기)\n",
    "\n",
    "```python\n",
    "class ClassName:\n",
    "    \n",
    "```\n",
    "\n",
    "* 선언과 동시에 클래스 객체가 생성됨.\n",
    "\n",
    "* 또한, 선언된 공간은 지역 스코프(local scope)로 사용된다.\n",
    "    - 히키코모리 막내 동생의 방\n",
    "\n",
    "* 정의된 어트리뷰트 중 변수는 멤버 변수로 불리운다.\n",
    "    - 멤버 변수: 클래스 변수 / 인스턴스 변수 통칭\n",
    "\n",
    "* 정의된 함수(`def`)는 메서드로 불리운다.\n",
    "    - 모든 메서드는 함수이다.(O)\n",
    "    - 모든 함수는 메서드이다.(x)"
   ]
  },
  {
   "cell_type": "code",
   "execution_count": 84,
   "metadata": {},
   "outputs": [],
   "source": [
    "# Class를 만들어봅시다.\n",
    "class TestClass:\n",
    "    \"\"\"\n",
    "    This is test class    \n",
    "    \"\"\"\n",
    "    name='TestClass'"
   ]
  },
  {
   "cell_type": "code",
   "execution_count": 72,
   "metadata": {},
   "outputs": [
    {
     "ename": "NameError",
     "evalue": "name '__main__' is not defined",
     "output_type": "error",
     "traceback": [
      "\u001b[1;31m---------------------------------------------------------------------------\u001b[0m",
      "\u001b[1;31mNameError\u001b[0m                                 Traceback (most recent call last)",
      "\u001b[1;32m<ipython-input-72-7f91e9b01f51>\u001b[0m in \u001b[0;36m<module>\u001b[1;34m\u001b[0m\n\u001b[1;32m----> 1\u001b[1;33m \u001b[0mprint\u001b[0m\u001b[1;33m(\u001b[0m\u001b[0mTestClass\u001b[0m\u001b[1;33m(\u001b[0m\u001b[0m__main__\u001b[0m\u001b[1;33m)\u001b[0m\u001b[1;33m)\u001b[0m\u001b[1;33m\u001b[0m\u001b[1;33m\u001b[0m\u001b[0m\n\u001b[0m",
      "\u001b[1;31mNameError\u001b[0m: name '__main__' is not defined"
     ]
    }
   ],
   "source": [
    "print(TestClass)"
   ]
  },
  {
   "cell_type": "markdown",
   "metadata": {},
   "source": [
    "## 인스턴스 생성하기\n",
    "\n",
    "* 인스턴스 객체는 `ClassName()`을 호출함으로써 선언된다.\n",
    "    - 클래스를 호출하는 것은 함수를 호출하는 것처럼 `클래스이름()`으로 한다.\n",
    "* 인스턴스 객체와 클래스 객체는 서로 다른 이름 공간을 가지고 있다.\n",
    "    - 클래스 변수와 인스턴스 변수는 다른 이름 공간(Namespace)를 갖습니다.\n",
    "* **인스턴스 => 클래스 => 전역 순으로 탐색을 한다.**"
   ]
  },
  {
   "cell_type": "code",
   "execution_count": 86,
   "metadata": {},
   "outputs": [
    {
     "name": "stdout",
     "output_type": "stream",
     "text": [
      "<__main__.TestClass object at 0x00000155BFD64C48>\n",
      "\n",
      "    This is test class    \n",
      "    \n"
     ]
    }
   ],
   "source": [
    "# TestClass 의 인스턴스를 만들어 봅시다.\n",
    "tc=TestClass()\n",
    "print(tc)\n",
    "\n",
    "#class의 독스트링('''''')을 불러오는방법\n",
    "print(tc.__doc__)\n"
   ]
  },
  {
   "cell_type": "code",
   "execution_count": 90,
   "metadata": {},
   "outputs": [
    {
     "name": "stdout",
     "output_type": "stream",
     "text": [
      "tc\n",
      "tc\n",
      "TestClass\n",
      "123\n"
     ]
    }
   ],
   "source": [
    "# namespace..?\n",
    "print(tc.name)\n",
    "tc.name='tc'\n",
    "tc.v=123\n",
    "print(tc.name)\n",
    "print(TestClass.name)\n",
    "print(tc.v)\n"
   ]
  },
  {
   "cell_type": "code",
   "execution_count": null,
   "metadata": {},
   "outputs": [],
   "source": [
    "# 제일 처음에 만들었던 핸드폰 코드를 Phone 클래스로 바꿔서 작성해봅시다.\n"
   ]
  },
  {
   "cell_type": "markdown",
   "metadata": {},
   "source": [
    "* 선언시 `self`는 반드시 작성해주세요! 아래에서 다시 다룹니다."
   ]
  },
  {
   "cell_type": "code",
   "execution_count": 131,
   "metadata": {},
   "outputs": [],
   "source": [
    "class phone:\n",
    "    power=False\n",
    "    number=''\n",
    "    book={}\n",
    "    model='Samsung Galaxy S10'\n",
    "    def on(self):\n",
    "        if not self.power:\n",
    "            self.power=True\n",
    "            print('---------------')\n",
    "            print('{}'.format(self.model))\n",
    "            print('---------------')\n",
    "    def off(self):\n",
    "        if self.power:\n",
    "            self.power=False\n",
    "            print('폰 꺼짐')\n",
    "            \n",
    "            \n",
    "        "
   ]
  },
  {
   "cell_type": "code",
   "execution_count": 132,
   "metadata": {},
   "outputs": [
    {
     "name": "stdout",
     "output_type": "stream",
     "text": [
      "Samsung Galaxy S10\n"
     ]
    }
   ],
   "source": [
    "# Phone 클래스로부터 인스턴스 객체(p)를 생성하고 출력해봅시다.\n",
    "p=phone()\n",
    "print(p.model)"
   ]
  },
  {
   "cell_type": "code",
   "execution_count": 133,
   "metadata": {},
   "outputs": [],
   "source": [
    "# 클래스 Phone의 인스턴스 'justin_phone' 를 만들어봅시다. \n",
    "justin_phone=phone()"
   ]
  },
  {
   "cell_type": "code",
   "execution_count": 134,
   "metadata": {},
   "outputs": [
    {
     "name": "stdout",
     "output_type": "stream",
     "text": [
      "False\n"
     ]
    }
   ],
   "source": [
    "# 켜져 있나 확인해 봅시다.\n",
    "print(justin_phone.power)"
   ]
  },
  {
   "cell_type": "code",
   "execution_count": 135,
   "metadata": {},
   "outputs": [
    {
     "name": "stdout",
     "output_type": "stream",
     "text": [
      "---------------\n",
      "Samsung Galaxy S10\n",
      "---------------\n"
     ]
    }
   ],
   "source": [
    "# 새 폰은 꺼져있으니 켜 봅시다.\n",
    "justin_phone.on()"
   ]
  },
  {
   "cell_type": "code",
   "execution_count": 136,
   "metadata": {},
   "outputs": [
    {
     "name": "stdout",
     "output_type": "stream",
     "text": [
      "True\n"
     ]
    }
   ],
   "source": [
    "# 다시 전원 상태를 확인해 봅시다.\n",
    "print(justin_phone.power)"
   ]
  },
  {
   "cell_type": "code",
   "execution_count": 137,
   "metadata": {},
   "outputs": [
    {
     "data": {
      "text/plain": [
       "'Samsung Galaxy S10'"
      ]
     },
     "execution_count": 137,
     "metadata": {},
     "output_type": "execute_result"
    }
   ],
   "source": [
    "# 폰의 모델명을 확인해 봅시다.\n",
    "justin_phone.model"
   ]
  },
  {
   "cell_type": "code",
   "execution_count": 139,
   "metadata": {},
   "outputs": [],
   "source": [
    "# 모델을 바꿔 봅시다.\n",
    "justin_phone.model='iPhone 6s'"
   ]
  },
  {
   "cell_type": "code",
   "execution_count": 140,
   "metadata": {},
   "outputs": [
    {
     "data": {
      "text/plain": [
       "'iPhone 6s'"
      ]
     },
     "execution_count": 140,
     "metadata": {},
     "output_type": "execute_result"
    }
   ],
   "source": [
    "# 폰 모델을 다시 확인해 봅시다.\n",
    "justin_phone.model"
   ]
  },
  {
   "cell_type": "code",
   "execution_count": 141,
   "metadata": {},
   "outputs": [
    {
     "name": "stdout",
     "output_type": "stream",
     "text": [
      "폰 꺼짐\n",
      "---------------\n",
      "iPhone 6s\n",
      "---------------\n"
     ]
    }
   ],
   "source": [
    "# 폰을 껐다 켜 봅시다.\n",
    "justin_phone.off()\n",
    "justin_phone.on()"
   ]
  },
  {
   "cell_type": "code",
   "execution_count": 143,
   "metadata": {},
   "outputs": [
    {
     "data": {
      "text/plain": [
       "True"
      ]
     },
     "execution_count": 143,
     "metadata": {},
     "output_type": "execute_result"
    }
   ],
   "source": [
    "# justin_phone 이 Phone 클래스의 인스턴스인지 확인해 봅시다.\n",
    "isinstance(justin_phone, phone)"
   ]
  },
  {
   "cell_type": "code",
   "execution_count": 147,
   "metadata": {},
   "outputs": [
    {
     "data": {
      "text/plain": [
       "True"
      ]
     },
     "execution_count": 147,
     "metadata": {},
     "output_type": "execute_result"
    }
   ],
   "source": [
    "# 같은 질문이지만, 다르게 물어 봅시다.\n",
    "type(justin_phone)==phone"
   ]
  },
  {
   "cell_type": "code",
   "execution_count": 149,
   "metadata": {},
   "outputs": [
    {
     "name": "stdout",
     "output_type": "stream",
     "text": [
      "<class '__main__.phone'>\n"
     ]
    }
   ],
   "source": [
    "# type을 확인해봅시다.\n",
    "print(type(justin_phone))"
   ]
  },
  {
   "cell_type": "code",
   "execution_count": 151,
   "metadata": {},
   "outputs": [
    {
     "name": "stdout",
     "output_type": "stream",
     "text": [
      "<__main__.phone object at 0x00000155BFD41B88>\n"
     ]
    }
   ],
   "source": [
    "# justin_phone 을 출력해 봅시다.\n",
    "print(justin_phone)"
   ]
  },
  {
   "cell_type": "code",
   "execution_count": 152,
   "metadata": {},
   "outputs": [
    {
     "data": {
      "text/plain": [
       "<__main__.phone at 0x155bfd41b88>"
      ]
     },
     "execution_count": 152,
     "metadata": {},
     "output_type": "execute_result"
    }
   ],
   "source": [
    "# justin_phone 을 다르게 볼까요?\n",
    "justin_phone"
   ]
  },
  {
   "cell_type": "code",
   "execution_count": 153,
   "metadata": {},
   "outputs": [],
   "source": [
    "# python 출력의 비밀 __repr__과 __str__\n",
    "# 특정 객체를 print() 할때 보이는 값과 \n",
    "# 그냥 객체 자체를 보여주는 값도 사실 모두 우리가 직접 바꿀 수 있습니다.\n",
    "class Phone:\n",
    "    power=False\n",
    "    book={}\n",
    "    model='Samsung Galaxy S10'\n",
    "    def on(self):\n",
    "        if not self.power:\n",
    "            self.power=True\n",
    "            print('---------------')\n",
    "            print('{}'.format(self.model))\n",
    "            print('---------------')\n",
    "    def off(self):\n",
    "        if self.power:\n",
    "            self.power=False\n",
    "            print('폰 꺼짐')\n",
    "    def __str__(self):#객체를 출력할 경우\n",
    "        return 'print 안에 넣으면 이렇게 나와요'\n",
    "    def __repr__(self):#객체를 부를 경우\n",
    "        return '그냥 객체만 놔두면 이렇게 나오지요'   "
   ]
  },
  {
   "cell_type": "code",
   "execution_count": 157,
   "metadata": {},
   "outputs": [
    {
     "name": "stdout",
     "output_type": "stream",
     "text": [
      "print 안에 넣으면 이렇게 나와요\n"
     ]
    }
   ],
   "source": [
    "# 만들어 볼까요?\n",
    "p=Phone()\n",
    "p    # 객체 자체를 그냥 출력하는 경우 -> __repr__ 호출 됨\n",
    "print(p)    # print 함수를 사용하여 출력하는 경우 -> __str__ 호출(사람이 보기 편하게 출력) 됨"
   ]
  },
  {
   "cell_type": "markdown",
   "metadata": {},
   "source": [
    "## MyList 만들기\n",
    "\n",
    "> 이제 배운 것을 활용하여 나만의 리스트 객체를 만들 수 있습니다. \n",
    ">\n",
    "> `class MyList:`\n",
    ">\n",
    "\n",
    "```\n",
    "* 클래스 변수\n",
    "data : 비어 있는 리스트\n",
    "\n",
    "* 메서드 \n",
    "`append()` : 값을 받아 data 에 추가합니다. 리턴 값은 없습니다.\n",
    "`pop()` : 마지막에 있는 값을 삭제하고, 해당 값을 리턴합니다.\n",
    "`reverse()` : 제자리에서 뒤집고 리턴 값은 없습니다.\n",
    "`count(x)` : x의 개수를 리턴합니다.\n",
    "`len()  : 길이 세는것\n",
    "`clear()` : 값을 모두 삭제합니다. 리턴값은 없습니다.\n",
    "\n",
    "`__repr__()` : ex) '내 리스트에는 [1, 2, 3] 이 담겨있다.'\n",
    "```"
   ]
  },
  {
   "cell_type": "code",
   "execution_count": 24,
   "metadata": {},
   "outputs": [],
   "source": [
    "# 아래에 코드를 작성해주세요.\n",
    "class MyList:\n",
    "    def __init__(self):\n",
    "        self.data=[]\n",
    "    def append(self,a):\n",
    "        print('append {}'.format(a))\n",
    "        self.data+=[a]\n",
    "    def pop(self):\n",
    "        print('pop')\n",
    "        if len(self.data):\n",
    "            temp=self.data[len(self.data)-1]\n",
    "            self.data=self.data[:-1]\n",
    "            return temp\n",
    "    def reverse(self):\n",
    "        print('reverse')\n",
    "        return self.data[::-1]\n",
    "    def count(self, a):\n",
    "        print('count')\n",
    "        temp=0\n",
    "        for i in self.data:\n",
    "            if a==i:\n",
    "                temp+=1\n",
    "        return temp\n",
    "    def len(self):\n",
    "        print('len')\n",
    "        return len(self.data)\n",
    "    \n",
    "    def clear(self):\n",
    "        print('clear')\n",
    "        self.data=[]\n",
    "    def __repr__(self):\n",
    "        \n",
    "        return '내 리스트에는 {} 이 담겨있다.'.format(self.data)"
   ]
  },
  {
   "cell_type": "code",
   "execution_count": 25,
   "metadata": {},
   "outputs": [
    {
     "name": "stdout",
     "output_type": "stream",
     "text": [
      "내 리스트에는 [] 이 담겨있다.\n",
      "append 2\n",
      "내 리스트에는 [2] 이 담겨있다.\n",
      "append 32\n",
      "내 리스트에는 [2, 32] 이 담겨있다.\n",
      "append 4\n",
      "내 리스트에는 [2, 32, 4] 이 담겨있다.\n",
      "append 2\n",
      "내 리스트에는 [2, 32, 4, 2] 이 담겨있다.\n",
      "pop\n",
      "2\n",
      "내 리스트에는 [2, 32, 4] 이 담겨있다.\n",
      "reverse\n",
      "내 리스트에는 [2, 32, 4] 이 담겨있다.\n",
      "count\n",
      "1\n",
      "내 리스트에는 [2, 32, 4] 이 담겨있다.\n",
      "len\n",
      "3\n",
      "내 리스트에는 [2, 32, 4] 이 담겨있다.\n",
      "clear\n",
      "내 리스트에는 [] 이 담겨있다.\n",
      "pop\n",
      "내 리스트에는 [] 이 담겨있다.\n"
     ]
    }
   ],
   "source": [
    "# 확인해 봅시다. 각 해당 셀을 두번 이상 실행하면 이상하게 동작합니다. Python Tutor 에서 확인해 봅시다.\n",
    "# (모든 객체의 data 가 같은 리스트를 참조합니다.)\n",
    "\n",
    "t=MyList()\n",
    "print(t)\n",
    "t.append(2)\n",
    "print(t)\n",
    "t.append(32)\n",
    "print(t)\n",
    "t.append(4)\n",
    "print(t)\n",
    "t.append(2)\n",
    "print(t)\n",
    "print(t.pop())\n",
    "print(t)\n",
    "t.reverse()\n",
    "print(t)\n",
    "print(t.count(2))\n",
    "print(t)\n",
    "print(t.len())\n",
    "print(t)\n",
    "t.clear()\n",
    "print(t)\n",
    "t.pop()\n",
    "print(t)\n"
   ]
  },
  {
   "cell_type": "markdown",
   "metadata": {},
   "source": [
    "## 용어 정리\n",
    "\n",
    "```python\n",
    "class Person:                     #=> 클래스 정의(선언) : 클래스 객체 생성\n",
    "    name = 'unknown'              #=> 멤버 변수(data attribute)\n",
    "    def greeting(self):           #=> 멤버 메서드(메서드)\n",
    "        return f'{self.name}' \n",
    "```\n",
    "    \n",
    "    \n",
    "```python\n",
    "richard = Person()      # 인스턴스 객체 생성\n",
    "tim = Person()          # 인스턴스 객체 생성\n",
    "tim.name                # 인스턴스의 변수(속성) 호출\n",
    "tim.greeting()          # 인스턴스로 메서드 호출\n",
    "```\n",
    "\n",
    "- 참고\n",
    "    - 멤버 변수(클래스 / 인스턴스의 멤버를 의미)\n",
    "        - 클래스 변수: Class Variable shared by all instances\n",
    "        - 인스턴스 변수: Instance variable unique each instance"
   ]
  },
  {
   "cell_type": "code",
   "execution_count": 215,
   "metadata": {},
   "outputs": [],
   "source": [
    "# Person을 만들어봅시다.\n",
    "class Person:\n",
    "    name='unknown'\n",
    "    def greeting(self):#멤버 메서드\n",
    "        return 'hi!, {}'.format(self.name)\n",
    "        \n",
    "        "
   ]
  },
  {
   "cell_type": "code",
   "execution_count": 219,
   "metadata": {},
   "outputs": [
    {
     "data": {
      "text/plain": [
       "'hi!, unknown'"
      ]
     },
     "execution_count": 219,
     "metadata": {},
     "output_type": "execute_result"
    }
   ],
   "source": [
    "p1= Person() #p1 인스턴스 생성\n",
    "p1.greeting() #p1인스턴스에서 메서드 호출"
   ]
  },
  {
   "cell_type": "code",
   "execution_count": 220,
   "metadata": {},
   "outputs": [
    {
     "data": {
      "text/plain": [
       "True"
      ]
     },
     "execution_count": 220,
     "metadata": {},
     "output_type": "execute_result"
    }
   ],
   "source": [
    "# 클래스와 인스턴스간의 관계를 확인해 봅시다.\n",
    "isinstance(p1, Person)"
   ]
  },
  {
   "cell_type": "markdown",
   "metadata": {},
   "source": [
    "##  `self` : 인스턴스 객체 자기자신\n",
    "\n",
    "* C++ 혹은 자바에서의 this 키워드와 동일함. \n",
    "\n",
    "* 특별한 상황을 제외하고는 **무조건 메서드에서 `self`를 첫번째 인자로 설정한다.**\n",
    "\n",
    "* 메서드는 인스턴스 객체가 함수의 첫번째 인자로 전달되도록 되어있다.\n",
    "    - 인스턴스로 메서드를 호출할 때 인스턴스 자기 자신을 메서드의 첫번째 인자로 넘긴다."
   ]
  },
  {
   "cell_type": "code",
   "execution_count": 222,
   "metadata": {},
   "outputs": [
    {
     "data": {
      "text/plain": [
       "'hi!, ssafy Kim'"
      ]
     },
     "execution_count": 222,
     "metadata": {},
     "output_type": "execute_result"
    }
   ],
   "source": [
    "# p1 의 이름을 자기 이름으로 바꾸고 다시 인사해 봅시다.\n",
    "p1.name='ssafy Kim' #p1(인스턴스)의 이름공간의 변수(속성)에 'ssafy Kim' 속성 생성\n",
    "p1.greeting()\n"
   ]
  },
  {
   "cell_type": "code",
   "execution_count": 223,
   "metadata": {},
   "outputs": [
    {
     "data": {
      "text/plain": [
       "'hi!, ssafy Kim'"
      ]
     },
     "execution_count": 223,
     "metadata": {},
     "output_type": "execute_result"
    }
   ],
   "source": [
    "# 아까부터 궁금했던, 메서드 1번 인자 self 는 어디에 있는걸까요?\n",
    "# 실제로 이렇게 쓰지는 않지만 어떤 의미로는 이 코드가 더 직관적일 거에요.\n",
    "Person.greeting(p1)"
   ]
  },
  {
   "cell_type": "markdown",
   "metadata": {},
   "source": [
    "## 클래스-인스턴스간의 이름공간\n",
    "\n",
    "* 클래스를 정의하면, 클래스 객체가 생성되고 해당되는 이름 공간이 생성된다. \n",
    "\n",
    "* 인스턴스를 만들게 되면, 인스턴스 객체가 생성되고 해당되는 이름 공간이 생성된다. \n",
    "\n",
    "* 인스턴스의 어트리뷰트(변수)가 변경되면, 변경된 데이터를 인스턴스 객체 이름 공간에 저장한다.\n",
    "\n",
    "* 즉, 인스턴스에서 특정한 어트리뷰트에 접근하게 되면 인스턴스 => 클래스 순으로 탐색을 한다.\n",
    "    - 인스턴스에서 못찾으면 클래스에서 찾는다!"
   ]
  },
  {
   "cell_type": "code",
   "execution_count": 1,
   "metadata": {},
   "outputs": [],
   "source": [
    "# 클래스 선언코드에서 메서드를 정의할 때, 왜 self 를 꼭 써준걸까요?\n",
    "class Person:\n",
    "    name = 'unknown'\n",
    "    \n",
    "    def greeting(self):\n",
    "        return f'My name is {name}' #self.name가 아니라 name을 찾으면 인스턴스변수가 아니라서\n",
    "                                        #class를 찾아보는것이 아니라 바로 전역을 찾아본다.\n",
    "        "
   ]
  },
  {
   "cell_type": "code",
   "execution_count": 2,
   "metadata": {},
   "outputs": [
    {
     "ename": "NameError",
     "evalue": "name 'name' is not defined",
     "output_type": "error",
     "traceback": [
      "\u001b[1;31m---------------------------------------------------------------------------\u001b[0m",
      "\u001b[1;31mNameError\u001b[0m                                 Traceback (most recent call last)",
      "\u001b[1;32m<ipython-input-2-1db1ecf641da>\u001b[0m in \u001b[0;36m<module>\u001b[1;34m\u001b[0m\n\u001b[0;32m      1\u001b[0m \u001b[1;31m# 아래에서 확인해 봅시다.\u001b[0m\u001b[1;33m\u001b[0m\u001b[1;33m\u001b[0m\u001b[1;33m\u001b[0m\u001b[0m\n\u001b[0;32m      2\u001b[0m \u001b[0mp2\u001b[0m\u001b[1;33m=\u001b[0m\u001b[0mPerson\u001b[0m\u001b[1;33m(\u001b[0m\u001b[1;33m)\u001b[0m\u001b[1;33m\u001b[0m\u001b[1;33m\u001b[0m\u001b[0m\n\u001b[1;32m----> 3\u001b[1;33m \u001b[0mp2\u001b[0m\u001b[1;33m.\u001b[0m\u001b[0mgreeting\u001b[0m\u001b[1;33m(\u001b[0m\u001b[1;33m)\u001b[0m\u001b[1;33m\u001b[0m\u001b[1;33m\u001b[0m\u001b[0m\n\u001b[0m",
      "\u001b[1;32m<ipython-input-1-249ff8ca57ca>\u001b[0m in \u001b[0;36mgreeting\u001b[1;34m(self)\u001b[0m\n\u001b[0;32m      4\u001b[0m \u001b[1;33m\u001b[0m\u001b[0m\n\u001b[0;32m      5\u001b[0m     \u001b[1;32mdef\u001b[0m \u001b[0mgreeting\u001b[0m\u001b[1;33m(\u001b[0m\u001b[0mself\u001b[0m\u001b[1;33m)\u001b[0m\u001b[1;33m:\u001b[0m\u001b[1;33m\u001b[0m\u001b[1;33m\u001b[0m\u001b[0m\n\u001b[1;32m----> 6\u001b[1;33m         \u001b[1;32mreturn\u001b[0m \u001b[1;34mf'My name is {name}'\u001b[0m \u001b[1;31m#self.name가 아니라 name을 찾으면 인스턴스변수가 아니라서\u001b[0m\u001b[1;33m\u001b[0m\u001b[1;33m\u001b[0m\u001b[0m\n\u001b[0m\u001b[0;32m      7\u001b[0m                                         \u001b[1;31m#class를 찾아보는것이 아니라 바로 전역을 찾아본다.\u001b[0m\u001b[1;33m\u001b[0m\u001b[1;33m\u001b[0m\u001b[1;33m\u001b[0m\u001b[0m\n\u001b[0;32m      8\u001b[0m \u001b[1;33m\u001b[0m\u001b[0m\n",
      "\u001b[1;31mNameError\u001b[0m: name 'name' is not defined"
     ]
    }
   ],
   "source": [
    "# 아래에서 확인해 봅시다.\n",
    "p2=Person()\n",
    "p2.greeting()"
   ]
  },
  {
   "cell_type": "code",
   "execution_count": 3,
   "metadata": {},
   "outputs": [
    {
     "data": {
      "text/plain": [
       "'unknown'"
      ]
     },
     "execution_count": 3,
     "metadata": {},
     "output_type": "execute_result"
    }
   ],
   "source": [
    "# 함수 scope 를 다시한번 짚고 넘어갑시다.\n",
    "p2.name\n",
    "#p2안에서 name찾고 없으면 class로 가서 name을 찾아봄.\n",
    "#찾아서 name리턴함\n"
   ]
  },
  {
   "cell_type": "code",
   "execution_count": 4,
   "metadata": {},
   "outputs": [],
   "source": [
    "# 다시, 클래스 선언코드에서 메서드를 정의할 때, 왜 self 를 꼭 써준걸까요?\n",
    "class Person:\n",
    "    name = 'unknown'\n",
    "    \n",
    "    def greeting(self):\n",
    "        return f'My name is {self.name}' "
   ]
  },
  {
   "cell_type": "code",
   "execution_count": 6,
   "metadata": {},
   "outputs": [
    {
     "data": {
      "text/plain": [
       "'My name is unknown'"
      ]
     },
     "execution_count": 6,
     "metadata": {},
     "output_type": "execute_result"
    }
   ],
   "source": [
    "# 아래에서 확인해 봅시다.\n",
    "p2=Person()\n",
    "p2.greeting()"
   ]
  },
  {
   "cell_type": "code",
   "execution_count": 8,
   "metadata": {},
   "outputs": [],
   "source": [
    "# 아래에서 p2 객체에게 이름을 지어 줍시다.\n",
    "p2.name='dj'"
   ]
  },
  {
   "cell_type": "code",
   "execution_count": null,
   "metadata": {
    "scrolled": true
   },
   "outputs": [],
   "source": [
    "# python tutor 를 통해 확인해 봅시다.\n",
    "IFrame('http://bit.do/oop_instro_00', width='100%', height='500px')"
   ]
  },
  {
   "cell_type": "markdown",
   "metadata": {},
   "source": [
    "## 생성자 / 소멸자\n",
    "\n",
    "* 생성자는 인스턴스 객체가 생성될 때 호출되는 함수이며, 소멸자는 객체가 소멸되는 과정에서 호출되는 함수입니다.\n",
    "\n",
    "```python\n",
    "def __init__(self):\n",
    "    print('생성될 때 자동으로 호출되는 메서드입니다.')\n",
    "    \n",
    "def __del__(self):\n",
    "    print('소멸될 때 자동으로 호출되는 메서드입니다.')\n",
    "```\n",
    "\n",
    "```\n",
    "__someting__\n",
    "```\n",
    "\n",
    "위의 형식처럼 양쪽에 언더스코어가 있는 메서드를 `스페셜 메서드` 혹은 `매직 메서드`라고 불립니다."
   ]
  },
  {
   "cell_type": "code",
   "execution_count": 9,
   "metadata": {},
   "outputs": [],
   "source": [
    "# 생성자와 소멸자를 만들어봅시다.\n",
    "class Person:\n",
    "    def __init__(self):\n",
    "        print('b')\n",
    "    def __del__(self):\n",
    "        print('d')\n",
    "\n"
   ]
  },
  {
   "cell_type": "code",
   "execution_count": 10,
   "metadata": {},
   "outputs": [
    {
     "name": "stdout",
     "output_type": "stream",
     "text": [
      "b\n"
     ]
    }
   ],
   "source": [
    "# Person 클래스로부터 새로운 인스턴스 객체를 생성해 봅시다.\n",
    "p3=Person()"
   ]
  },
  {
   "cell_type": "code",
   "execution_count": 11,
   "metadata": {},
   "outputs": [
    {
     "name": "stdout",
     "output_type": "stream",
     "text": [
      "d\n"
     ]
    }
   ],
   "source": [
    "# 생성된 인스턴스 객체를 소멸시켜 봅시다.\n",
    "del p3"
   ]
  },
  {
   "cell_type": "code",
   "execution_count": 17,
   "metadata": {},
   "outputs": [],
   "source": [
    "# 생성자 역시 메서드(함수)기 때문에 추가인자를 받을 수 있습니다.\n",
    "class Person:\n",
    "    def __init__(self, name='unknown'):\n",
    "        self.name=name\n",
    "        print('{} b'.format(self.name))\n",
    "    def __del__(self):\n",
    "        print('{} d'.format(self.name))"
   ]
  },
  {
   "cell_type": "code",
   "execution_count": 18,
   "metadata": {},
   "outputs": [
    {
     "name": "stdout",
     "output_type": "stream",
     "text": [
      "unknown b\n",
      "eer d\n"
     ]
    }
   ],
   "source": [
    "# 생성과 동시에 인스턴스 변수에 값을 할당합니다.\n",
    "p3=Person()"
   ]
  },
  {
   "cell_type": "markdown",
   "metadata": {},
   "source": [
    "## 실습 (종합)\n",
    "\n",
    "> 사실 이전에 작성한 Mylist는 완벽하지 않았습니다. \n",
    ">\n",
    "> 한번 제대로 된 자료구조를 만들어보겠습니다. \n",
    ">\n",
    "> `Stack` 클래스를 간략하게 구현해봅시다.\n",
    "\n",
    "> [Stack](https://ko.wikipedia.org/wiki/%EC%8A%A4%ED%83%9D) : 스택은 LIFO(Last in First Out)으로 구조화된 자료구조를 뜻합니다.\n",
    "\n",
    "1. `empty()`: 스택이 비었다면 True을 주고, 그렇지 않다면 False가 된다.\n",
    "\n",
    "2. `top()`: 스택의 가장 마지막 데이터를 넘겨준다. 스택이 비었다면 None을 리턴한다.\n",
    "\n",
    "3. `pop()`: 스택의 가장 마지막 데이터의 값을 넘겨주고, 해당 데이터를 삭제한다. 스택이 비었다면 None을 리턴한다.\n",
    "\n",
    "4. `push()`: 스택의 가장 마지막 데이터 뒤에 값을 추가한다. 리턴 값은 없다.\n",
    "\n",
    "**다 작성했다면 __repr__ 을 통해 예쁘게 출력까지 해봅시다.**"
   ]
  },
  {
   "cell_type": "code",
   "execution_count": 37,
   "metadata": {},
   "outputs": [
    {
     "name": "stdout",
     "output_type": "stream",
     "text": [
      "내 리스트에는 [] 이 담겨있다.\n",
      "내 리스트에는 [] 이 담겨있다.\n",
      "내 리스트에는 [3] 이 담겨있다.\n",
      "내 리스트에는 [3] 이 담겨있다.\n",
      "내 리스트에는 [3, 4] 이 담겨있다.\n",
      "내 리스트에는 [3] 이 담겨있다.\n",
      "내 리스트에는 [3] 이 담겨있다.\n"
     ]
    }
   ],
   "source": [
    "# 여기에 코드를 작성해주세요.\n",
    "class Stack:\n",
    "    def __init__(self):\n",
    "        self.list=[]\n",
    "    def empty(self):\n",
    "        if len(self.list):\n",
    "            return False\n",
    "        else:\n",
    "            return True\n",
    "    def top(self):\n",
    "        return self.list[-1]\n",
    "    def pop(self):\n",
    "        temp=self.list[-1]\n",
    "        self.list=self.list[:-1]\n",
    "    def push(self, a):\n",
    "        self.list.append(a)\n",
    "    def __repr__(self):\n",
    "        return '내 리스트에는 {} 이 담겨있다.'.format(self.list)\n",
    "        \n",
    "ml=Stack()\n",
    "print(ml)\n",
    "ml.empty()\n",
    "print(ml)\n",
    "ml.push(3)\n",
    "print(ml)\n",
    "ml.top()\n",
    "print(ml)\n",
    "ml.push(4)\n",
    "print(ml)\n",
    "ml.pop()\n",
    "print(ml)\n",
    "ml.empty()\n",
    "print(ml)\n",
    "        "
   ]
  },
  {
   "cell_type": "markdown",
   "metadata": {},
   "source": [
    "## 포켓몬 구현하기\n",
    "\n",
    "> 피카츄를 클래스-인스턴스로 구현해 봅시다. 게임을 만든다면 아래와 같이 먼저 기획을 하고 코드로 구현하게 됩니다.\n",
    "우선 아래와 같이 구현해 보고, 추가로 본인이 원하는 대로 구현 및 수정해 봅시다.\n",
    "\n",
    "모든 피카츄는 다음과 같은 속성을 갖습니다.\n",
    "* `name`: 이름\n",
    "* `level`: 레벨\n",
    "    * 레벨은 시작할 때 모두 5 입니다.\n",
    "* `hp`: 체력\n",
    "    * 체력은 `level` * 20 입니다.\n",
    "* `exp`: 경험치\n",
    "    * 상대방을 쓰러뜨리면 상대방 `level` * 15 를 획득합니다.\n",
    "    * 경험치는 `level` * 100 이 되면, 레벨이 하나 올라가고 0부터 추가 됩니다. \n",
    "\n",
    "모든 피카츄는 다음과 같은 행동(메서드)을 할 수 있습니다.\n",
    "* `bark()`: 울기. `'pikachu'` 를 출력합니다.\n",
    "* `body_attack()`: 몸통박치기. 상대방의 hp 를 내 `level` * 5 만큼 차감합니다.\n",
    "* `thousond_volt()`: 십만볼트. 상대방의 hp 를 내 `level` * 7 만큼 차감합니다."
   ]
  },
  {
   "cell_type": "code",
   "execution_count": null,
   "metadata": {},
   "outputs": [],
   "source": [
    "# 아래에 코드를 작성해주세요."
   ]
  },
  {
   "cell_type": "markdown",
   "metadata": {},
   "source": [
    "### Workshop\n",
    "> 다음 조건에 맞는 Circle 클래스를 만들어 보세요.\n",
    "\n",
    "클래스 속성\n",
    "* `pi`: 3.14\n",
    "\n",
    "인스턴스 속성 (초기화 시 필요한 값들)\n",
    "* `r`: 원의 반지름 (필수 입력)\n",
    "* `x`: x좌표 (default 0)\n",
    "* `y`: y좌표 (default 0)\n",
    "\n",
    "인스턴스 메서드\n",
    "* `area()`: 원의 넓이를 반환\n",
    "* `circumference()`: 원의 둘레를 반환\n",
    "* `center()`: 원의 중심인 (x, y) 좌표를 튜플로 반환\n",
    "* `move(x, y)`: 원의 중심인 (x, y) 좌표를 입력받은 값으로 변경하고 변경된 좌표값을 튜플로 반환"
   ]
  },
  {
   "cell_type": "code",
   "execution_count": null,
   "metadata": {},
   "outputs": [],
   "source": [
    "# 여기에 클래스를 정의하세요"
   ]
  }
 ],
 "metadata": {
  "kernelspec": {
   "display_name": "Python 3",
   "language": "python",
   "name": "python3"
  },
  "language_info": {
   "codemirror_mode": {
    "name": "ipython",
    "version": 3
   },
   "file_extension": ".py",
   "mimetype": "text/x-python",
   "name": "python",
   "nbconvert_exporter": "python",
   "pygments_lexer": "ipython3",
   "version": "3.7.4"
  },
  "latex_envs": {
   "LaTeX_envs_menu_present": true,
   "autoclose": false,
   "autocomplete": true,
   "bibliofile": "biblio.bib",
   "cite_by": "apalike",
   "current_citInitial": 1,
   "eqLabelWithNumbers": true,
   "eqNumInitial": 1,
   "hotkeys": {
    "equation": "Ctrl-E",
    "itemize": "Ctrl-I"
   },
   "labels_anchors": false,
   "latex_user_defs": false,
   "report_style_numbering": false,
   "user_envs_cfg": false
  },
  "toc": {
   "base_numbering": 1,
   "nav_menu": {},
   "number_sections": true,
   "sideBar": true,
   "skip_h1_title": false,
   "title_cell": "Table of Contents",
   "title_sidebar": "Contents",
   "toc_cell": false,
   "toc_position": {
    "height": "calc(100% - 180px)",
    "left": "10px",
    "top": "150px",
    "width": "206.8px"
   },
   "toc_section_display": true,
   "toc_window_display": false
  }
 },
 "nbformat": 4,
 "nbformat_minor": 2
}
