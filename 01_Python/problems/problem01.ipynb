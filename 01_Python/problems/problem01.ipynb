{
 "cells": [
  {
   "cell_type": "markdown",
   "metadata": {},
   "source": [
    "## 자음 모음 count!!\n",
    "\n",
    "> 반복문과 조건문만 활용하여 사용자가 입력한 영어 단어의 자음과 모음을 세는 로직을 작성하세요.\n",
    "\n",
    "---\n",
    "\n",
    "```\n",
    "예시 입력)\n",
    "student\n",
    "\n",
    "예시 출력)\n",
    "vowels = 2\n",
    "consonants = 5\n",
    "```"
   ]
  },
  {
   "cell_type": "code",
   "execution_count": null,
   "metadata": {},
   "outputs": [],
   "source": [
    "a=input()\n"
   ]
  },
  {
   "cell_type": "markdown",
   "metadata": {},
   "source": [
    "# 상승장? 하락장?\n",
    "\n",
    "> 최고가와 최저가의 차이를 변동폭으로 정의할 때 (시가 + 변동폭)이 최고가 보다 높을 경우 \"상승장\", 그렇지 않은 경우 \"하락장\" 문자열을 출력하라.\n",
    "\n",
    "|Key Name|Description|\n",
    "|------|---|\n",
    "|opeing_price|최근 24시간 내 시작 거래금액|\n",
    "|closing_price|최근 24시간 내 마지막 거래금액|\n",
    "|min_price|최근 24시간 내 최저 거래금액|\n",
    "|max_price|최근 24시간 내 최고 거래금액|"
   ]
  },
  {
   "cell_type": "code",
   "execution_count": 7,
   "metadata": {},
   "outputs": [
    {
     "name": "stdout",
     "output_type": "stream",
     "text": [
      "{'opening_price': '11142000', 'closing_price': '11670000', 'min_price': '10870000', 'max_price': '12000000', 'average_price': '11476985.6934', 'units_traded': '17159.53313924', 'volume_1day': '17159.53313924', 'volume_7day': '96202.29077911', 'buy_price': '11666000', 'sell_price': '11679000', '24H_fluctate': '528000', '24H_fluctate_rate': '4.73', 'date': '1563417455111'}\n",
      "상승장\n"
     ]
    }
   ],
   "source": [
    "import requests\n",
    "\n",
    "url = \"https://api.bithumb.com/public/ticker/btc\"\n",
    "data = requests.get(url).json()['data']\n",
    "print(data)\n",
    "\n",
    "if int(data['opening_price'])+int(data['max_price'])-int(data['min_price'])>int(data['max_price']):\n",
    "    print('상승장')\n",
    "else:\n",
    "    print('하락장')\n",
    "        "
   ]
  },
  {
   "cell_type": "markdown",
   "metadata": {},
   "source": [
    "# 모음 제거하기\n",
    "\n",
    "> 다음 문장의 모음을 제거하여 출력하세요.\n",
    "\n",
    "```\n",
    "예시 입력)\n",
    "\"Life is too short, you need python\"\n",
    "예시 출력)\n",
    "Lf s t shrt, y nd pythn\n",
    "```"
   ]
  },
  {
   "cell_type": "code",
   "execution_count": 23,
   "metadata": {},
   "outputs": [
    {
     "name": "stdout",
     "output_type": "stream",
     "text": [
      "Lf s t shrt, y nd pythn\n",
      "Lf s t shrt, y nd pythn\n",
      "(0, 0)\n"
     ]
    }
   ],
   "source": [
    "my_str = \"Life is too short, you need python\"\n",
    "\n",
    "\n",
    "rstr=[]\n",
    "for s in my_str:\n",
    "    if s not in 'aeiou':\n",
    "        rstr.append(s)\n",
    "print(''.join(rstr))\n",
    "\n",
    "\n",
    "#방법2\n",
    "my_str = \"Life is too short, you need python\"\n",
    "vowels=['a', 'e', 'i', 'o', 'u']\n",
    "for vowel in vowels:\n",
    "    my_str=my_str.replace(vowel, '')\n",
    "print(my_str)\n",
    "\n",
    "\n",
    "a,b=0,0\n",
    "def asdf(a,b):\n",
    "    return a,b\n",
    "c=asdf(a,b)\n",
    "print(c)"
   ]
  },
  {
   "cell_type": "markdown",
   "metadata": {},
   "source": [
    "# 개인정보보호\n",
    "> 사용자의 핸드폰번호를 입력 받으려고한다. 개인정보 보호를 위하여 뒷자리 4자리를 제외하고는 마스킹 처리를 하려고한다.\n",
    ">\n",
    "> 핸드폰번호는 010으로 시작해야하고 11자리여야한다. 핸드폰번호를 입력하지 않았다면 \"핸드폰번호를 입력하세요\"를 출력한다\n",
    "\n",
    "```\n",
    "예시 입력)\n",
    "01012341234\n",
    "예시 출력)\n",
    "*******1234\n",
    "```"
   ]
  },
  {
   "cell_type": "code",
   "execution_count": 15,
   "metadata": {},
   "outputs": [
    {
     "name": "stdout",
     "output_type": "stream",
     "text": [
      "01000012345\n",
      "*******2345\n"
     ]
    }
   ],
   "source": [
    "phone = input()\n",
    "if phone=='':\n",
    "    print('핸드폰번호를 입력하세요')\n",
    "elif phone[0:3]!='010' or len(phone)!=11:\n",
    "    print('잘못된 핸드폰 번호')\n",
    "else:\n",
    "    print('*******{}'.format(phone[7:]))"
   ]
  },
  {
   "cell_type": "markdown",
   "metadata": {},
   "source": [
    "# 정중앙\n",
    "> 사용자가 입력한 문자열중 가운데 글자를 출력하라. 문자열이 짝수라면 가운데 두글자를 출력하라\n",
    "\n",
    "```\n",
    "예시 입력)\n",
    "apple \n",
    "예시 출력)\n",
    "p\n",
    "\n",
    "예시 입력)\n",
    "levele\n",
    "예시 출력)\n",
    "ve\n",
    "```"
   ]
  },
  {
   "cell_type": "code",
   "execution_count": 21,
   "metadata": {},
   "outputs": [
    {
     "name": "stdout",
     "output_type": "stream",
     "text": [
      "asf\n",
      "s\n"
     ]
    }
   ],
   "source": [
    "text = input()\n",
    "if len(text)%2==0:\n",
    "    c=int(len(text)/2)\n",
    "    print(text[c-1],text[c],sep='')\n",
    "else:\n",
    "    print(text[int(len(text)/2)])"
   ]
  }
 ],
 "metadata": {
  "kernelspec": {
   "display_name": "Python 3",
   "language": "python",
   "name": "python3"
  },
  "language_info": {
   "codemirror_mode": {
    "name": "ipython",
    "version": 3
   },
   "file_extension": ".py",
   "mimetype": "text/x-python",
   "name": "python",
   "nbconvert_exporter": "python",
   "pygments_lexer": "ipython3",
   "version": "3.7.4"
  }
 },
 "nbformat": 4,
 "nbformat_minor": 2
}
